{
  "cells": [
    {
      "cell_type": "markdown",
      "metadata": {
        "id": "view-in-github",
        "colab_type": "text"
      },
      "source": [
        "<a href=\"https://colab.research.google.com/github/scottviteri/NNVisualizationWithAutoencoder/blob/main/Deep_dream_for_llms.ipynb\" target=\"_parent\"><img src=\"https://colab.research.google.com/assets/colab-badge.svg\" alt=\"Open In Colab\"/></a>"
      ]
    },
    {
      "cell_type": "markdown",
      "metadata": {
        "id": "zMjqT2LgtTUD"
      },
      "source": [
        "## Imports and download"
      ]
    },
    {
      "cell_type": "code",
      "execution_count": 1,
      "metadata": {
        "colab": {
          "base_uri": "https://localhost:8080/"
        },
        "id": "NkSmfdseZT7-",
        "outputId": "d52450ff-eb12-422b-8b41-a6e00ef5dc76"
      },
      "outputs": [
        {
          "output_type": "stream",
          "name": "stdout",
          "text": [
            "tyring to install stuff\n",
            "Requirement already satisfied: datasets in /usr/local/lib/python3.10/dist-packages (2.13.1)\n",
            "Requirement already satisfied: transformers in /usr/local/lib/python3.10/dist-packages (4.31.0)\n",
            "Requirement already satisfied: openai in /usr/local/lib/python3.10/dist-packages (0.27.8)\n",
            "Collecting weightwatcher\n",
            "  Downloading weightwatcher-0.7.1.5-py3-none-any.whl (69 kB)\n",
            "\u001b[2K     \u001b[90m━━━━━━━━━━━━━━━━━━━━━━━━━━━━━━━━━━━━━━━━\u001b[0m \u001b[32m69.8/69.8 kB\u001b[0m \u001b[31m4.7 MB/s\u001b[0m eta \u001b[36m0:00:00\u001b[0m\n",
            "\u001b[?25hRequirement already satisfied: numpy>=1.17 in /usr/local/lib/python3.10/dist-packages (from datasets) (1.22.4)\n",
            "Requirement already satisfied: pyarrow>=8.0.0 in /usr/local/lib/python3.10/dist-packages (from datasets) (9.0.0)\n",
            "Requirement already satisfied: dill<0.3.7,>=0.3.0 in /usr/local/lib/python3.10/dist-packages (from datasets) (0.3.6)\n",
            "Requirement already satisfied: pandas in /usr/local/lib/python3.10/dist-packages (from datasets) (1.5.3)\n",
            "Requirement already satisfied: requests>=2.19.0 in /usr/local/lib/python3.10/dist-packages (from datasets) (2.27.1)\n",
            "Requirement already satisfied: tqdm>=4.62.1 in /usr/local/lib/python3.10/dist-packages (from datasets) (4.65.0)\n",
            "Requirement already satisfied: xxhash in /usr/local/lib/python3.10/dist-packages (from datasets) (3.2.0)\n",
            "Requirement already satisfied: multiprocess in /usr/local/lib/python3.10/dist-packages (from datasets) (0.70.14)\n",
            "Requirement already satisfied: fsspec[http]>=2021.11.1 in /usr/local/lib/python3.10/dist-packages (from datasets) (2023.6.0)\n",
            "Requirement already satisfied: aiohttp in /usr/local/lib/python3.10/dist-packages (from datasets) (3.8.4)\n",
            "Requirement already satisfied: huggingface-hub<1.0.0,>=0.11.0 in /usr/local/lib/python3.10/dist-packages (from datasets) (0.16.4)\n",
            "Requirement already satisfied: packaging in /usr/local/lib/python3.10/dist-packages (from datasets) (23.1)\n",
            "Requirement already satisfied: pyyaml>=5.1 in /usr/local/lib/python3.10/dist-packages (from datasets) (6.0)\n",
            "Requirement already satisfied: filelock in /usr/local/lib/python3.10/dist-packages (from transformers) (3.12.2)\n",
            "Requirement already satisfied: regex!=2019.12.17 in /usr/local/lib/python3.10/dist-packages (from transformers) (2022.10.31)\n",
            "Requirement already satisfied: tokenizers!=0.11.3,<0.14,>=0.11.1 in /usr/local/lib/python3.10/dist-packages (from transformers) (0.13.3)\n",
            "Requirement already satisfied: safetensors>=0.3.1 in /usr/local/lib/python3.10/dist-packages (from transformers) (0.3.1)\n",
            "Requirement already satisfied: matplotlib in /usr/local/lib/python3.10/dist-packages (from weightwatcher) (3.7.1)\n",
            "Requirement already satisfied: matplotlib-inline in /usr/local/lib/python3.10/dist-packages (from weightwatcher) (0.1.6)\n",
            "Collecting powerlaw (from weightwatcher)\n",
            "  Downloading powerlaw-1.5-py3-none-any.whl (24 kB)\n",
            "Requirement already satisfied: scikit-learn in /usr/local/lib/python3.10/dist-packages (from weightwatcher) (1.2.2)\n",
            "Requirement already satisfied: attrs>=17.3.0 in /usr/local/lib/python3.10/dist-packages (from aiohttp->datasets) (23.1.0)\n",
            "Requirement already satisfied: charset-normalizer<4.0,>=2.0 in /usr/local/lib/python3.10/dist-packages (from aiohttp->datasets) (2.0.12)\n",
            "Requirement already satisfied: multidict<7.0,>=4.5 in /usr/local/lib/python3.10/dist-packages (from aiohttp->datasets) (6.0.4)\n",
            "Requirement already satisfied: async-timeout<5.0,>=4.0.0a3 in /usr/local/lib/python3.10/dist-packages (from aiohttp->datasets) (4.0.2)\n",
            "Requirement already satisfied: yarl<2.0,>=1.0 in /usr/local/lib/python3.10/dist-packages (from aiohttp->datasets) (1.9.2)\n",
            "Requirement already satisfied: frozenlist>=1.1.1 in /usr/local/lib/python3.10/dist-packages (from aiohttp->datasets) (1.4.0)\n",
            "Requirement already satisfied: aiosignal>=1.1.2 in /usr/local/lib/python3.10/dist-packages (from aiohttp->datasets) (1.3.1)\n",
            "Requirement already satisfied: typing-extensions>=3.7.4.3 in /usr/local/lib/python3.10/dist-packages (from huggingface-hub<1.0.0,>=0.11.0->datasets) (4.7.1)\n",
            "Requirement already satisfied: urllib3<1.27,>=1.21.1 in /usr/local/lib/python3.10/dist-packages (from requests>=2.19.0->datasets) (1.26.16)\n",
            "Requirement already satisfied: certifi>=2017.4.17 in /usr/local/lib/python3.10/dist-packages (from requests>=2.19.0->datasets) (2023.5.7)\n",
            "Requirement already satisfied: idna<4,>=2.5 in /usr/local/lib/python3.10/dist-packages (from requests>=2.19.0->datasets) (3.4)\n",
            "Requirement already satisfied: contourpy>=1.0.1 in /usr/local/lib/python3.10/dist-packages (from matplotlib->weightwatcher) (1.1.0)\n",
            "Requirement already satisfied: cycler>=0.10 in /usr/local/lib/python3.10/dist-packages (from matplotlib->weightwatcher) (0.11.0)\n",
            "Requirement already satisfied: fonttools>=4.22.0 in /usr/local/lib/python3.10/dist-packages (from matplotlib->weightwatcher) (4.41.0)\n",
            "Requirement already satisfied: kiwisolver>=1.0.1 in /usr/local/lib/python3.10/dist-packages (from matplotlib->weightwatcher) (1.4.4)\n",
            "Requirement already satisfied: pillow>=6.2.0 in /usr/local/lib/python3.10/dist-packages (from matplotlib->weightwatcher) (8.4.0)\n",
            "Requirement already satisfied: pyparsing>=2.3.1 in /usr/local/lib/python3.10/dist-packages (from matplotlib->weightwatcher) (3.1.0)\n",
            "Requirement already satisfied: python-dateutil>=2.7 in /usr/local/lib/python3.10/dist-packages (from matplotlib->weightwatcher) (2.8.2)\n",
            "Requirement already satisfied: traitlets in /usr/local/lib/python3.10/dist-packages (from matplotlib-inline->weightwatcher) (5.7.1)\n",
            "Requirement already satisfied: pytz>=2020.1 in /usr/local/lib/python3.10/dist-packages (from pandas->datasets) (2022.7.1)\n",
            "Requirement already satisfied: scipy in /usr/local/lib/python3.10/dist-packages (from powerlaw->weightwatcher) (1.10.1)\n",
            "Requirement already satisfied: mpmath in /usr/local/lib/python3.10/dist-packages (from powerlaw->weightwatcher) (1.3.0)\n",
            "Requirement already satisfied: joblib>=1.1.1 in /usr/local/lib/python3.10/dist-packages (from scikit-learn->weightwatcher) (1.3.1)\n",
            "Requirement already satisfied: threadpoolctl>=2.0.0 in /usr/local/lib/python3.10/dist-packages (from scikit-learn->weightwatcher) (3.1.0)\n",
            "Requirement already satisfied: six>=1.5 in /usr/local/lib/python3.10/dist-packages (from python-dateutil>=2.7->matplotlib->weightwatcher) (1.16.0)\n",
            "Installing collected packages: powerlaw, weightwatcher\n",
            "Successfully installed powerlaw-1.5 weightwatcher-0.7.1.5\n",
            "Running as a Colab notebook\n"
          ]
        }
      ],
      "source": [
        "# Janky code to do different setup when run in a Colab notebook vs VSCode\n",
        "try:\n",
        "    import google.colab\n",
        "    IN_COLAB = True\n",
        "    print(\"tyring to install stuff\")\n",
        "    ! pip install datasets transformers openai weightwatcher\n",
        "    print(\"Running as a Colab notebook\")\n",
        "except:\n",
        "    IN_COLAB = False\n",
        "    print(\"Running as a Jupyter notebook - intended for development only!\")\n",
        "    # from IPython import get_ipython\n",
        "\n",
        "    # ipython = get_ipython()\n",
        "    # # Code to automatically update the HookedTransformer code as its edited without restarting the kernel\n",
        "    # ipython.magic(\"load_ext autoreload\")\n",
        "    # ipython.magic(\"autoreload 2\")"
      ]
    },
    {
      "cell_type": "code",
      "execution_count": 3,
      "metadata": {
        "id": "eNbLhXw4ZXht"
      },
      "outputs": [],
      "source": [
        "# from huggingface_hub import notebook_login\n",
        "\n",
        "# notebook_login()"
      ]
    },
    {
      "cell_type": "code",
      "execution_count": 4,
      "metadata": {
        "id": "yN0oWGd7f9pJ"
      },
      "outputs": [],
      "source": [
        "import torch\n",
        "from torch.optim import AdamW\n",
        "from tqdm import tqdm\n",
        "import matplotlib.pyplot as plt\n",
        "from torch.nn import MSELoss, Linear, TransformerEncoderLayer, LayerNorm, TransformerEncoder\n",
        "from torch.optim import Adam\n",
        "from torch.cuda.amp import GradScaler, autocast\n",
        "import copy\n",
        "#from tqdm import tqdm\n",
        "from sklearn.metrics.pairwise import cosine_similarity\n",
        "import openai\n",
        "import numpy as np\n",
        "import random\n",
        "from torch import nn\n",
        "import random\n",
        "from IPython.display import clear_output\n",
        "import transformers\n",
        "from transformers import AutoModel, AutoTokenizer, AutoModelForCausalLM\n",
        "from tqdm.auto import tqdm\n",
        "\n",
        "openai.api_key = \"none\"\n",
        "# Check if CUDA is available and choose device accordingly\n",
        "device = torch.device(\"cuda\" if torch.cuda.is_available() else \"cpu\")"
      ]
    },
    {
      "cell_type": "code",
      "execution_count": 5,
      "metadata": {
        "colab": {
          "base_uri": "https://localhost:8080/"
        },
        "id": "ea-1zt3JaDdj",
        "outputId": "9cdd4783-8067-4ba0-f929-48b3c13d7959"
      },
      "outputs": [
        {
          "output_type": "execute_result",
          "data": {
            "text/plain": [
              "GPT2LMHeadModel(\n",
              "  (transformer): GPT2Model(\n",
              "    (wte): Embedding(50257, 768)\n",
              "    (wpe): Embedding(1024, 768)\n",
              "    (drop): Dropout(p=0.1, inplace=False)\n",
              "    (h): ModuleList(\n",
              "      (0-5): 6 x GPT2Block(\n",
              "        (ln_1): LayerNorm((768,), eps=1e-05, elementwise_affine=True)\n",
              "        (attn): GPT2Attention(\n",
              "          (c_attn): Conv1D()\n",
              "          (c_proj): Conv1D()\n",
              "          (attn_dropout): Dropout(p=0.1, inplace=False)\n",
              "          (resid_dropout): Dropout(p=0.1, inplace=False)\n",
              "        )\n",
              "        (ln_2): LayerNorm((768,), eps=1e-05, elementwise_affine=True)\n",
              "        (mlp): GPT2MLP(\n",
              "          (c_fc): Conv1D()\n",
              "          (c_proj): Conv1D()\n",
              "          (act): NewGELUActivation()\n",
              "          (dropout): Dropout(p=0.1, inplace=False)\n",
              "        )\n",
              "      )\n",
              "    )\n",
              "    (ln_f): LayerNorm((768,), eps=1e-05, elementwise_affine=True)\n",
              "  )\n",
              "  (lm_head): Linear(in_features=768, out_features=50257, bias=False)\n",
              ")"
            ]
          },
          "metadata": {},
          "execution_count": 5
        }
      ],
      "source": [
        "tokenizer = AutoTokenizer.from_pretrained(\"distilgpt2\", use_fast=True)\n",
        "model = AutoModelForCausalLM.from_pretrained(\"distilgpt2\").to(device)\n",
        "model"
      ]
    },
    {
      "cell_type": "markdown",
      "metadata": {
        "id": "P1sWxpx5tYVp"
      },
      "source": [
        "## Hook into model and optimize sentence"
      ]
    },
    {
      "cell_type": "code",
      "execution_count": 6,
      "metadata": {
        "id": "LF4hALDAuEZO"
      },
      "outputs": [],
      "source": [
        "def unembed_and_decode(embeds_input):\n",
        "  \"\"\"\n",
        "  Given an embedding vector, decode each token by using the transpose of the embedding matrix\n",
        "  and grabbing the vocab token with the highest probability on each token.\n",
        "\n",
        "  Also do this with the unembedding matrix as well.\n",
        "  \"\"\"\n",
        "  with torch.no_grad():\n",
        "      with autocast():\n",
        "        # Get the pre-trained embeddings\n",
        "        pretrained_embeddings = model.transformer.wte.weight\n",
        "        # if pretrained_embeddings.dtype != embeds_input.dtype:\n",
        "          # These types don't match so we use auto cast.\n",
        "        #   print(f\"types don't match, got for embeds inputs { embeds_input.dtype}, and {pretrained_embeddings.dtype} for embeddings matrix from gpt2 model\")\n",
        "        # Calculate dot product between input embeddings and pre-trained embeddings\n",
        "        dot_product = torch.matmul(embeds_input, pretrained_embeddings.t())\n",
        "\n",
        "        # Get the index of the highest value along dimension 2 (tokens)\n",
        "        _, tokens = torch.max(dot_product, dim=2)\n",
        "\n",
        "  # Decode tokens into text using the tokenizer\n",
        "  text = tokenizer.batch_decode(tokens.tolist(), skip_special_tokens=True)\n",
        "\n",
        "  return text"
      ]
    },
    {
      "cell_type": "code",
      "execution_count": 7,
      "metadata": {
        "id": "0zxln1LMKRM-"
      },
      "outputs": [],
      "source": [
        "def optimize_for_neuron(starting_sentence, layer_num=1, neuron_index=0, mlp_or_attention=\"mlp\"):\n",
        "  \"\"\"\n",
        "  Args:\n",
        "    neuron_indices: List of indices.\n",
        "    mlp_or_attention (str): 'mlp' or 'attention'\n",
        "  \"\"\"\n",
        "  model = AutoModelForCausalLM.from_pretrained(\"distilgpt2\").to(device)\n",
        "  inputs = tokenizer(starting_sentence, return_tensors=\"pt\").to(device)\n",
        "\n",
        "  # Get embeddings\n",
        "  with torch.no_grad():\n",
        "      embeddings = model.transformer.wte(inputs[\"input_ids\"])\n",
        "\n",
        "  # Make embeddings require gradient\n",
        "  embeddings.requires_grad_(True)\n",
        "\n",
        "  # Create an optimizer for the embeddings\n",
        "  optimizer = AdamW([embeddings], lr=0.1)  # You may need to adjust the learning rate\n",
        "  pre_embeddings = embeddings.detach().clone()\n",
        "  print(embeddings)\n",
        "  print(unembed_and_decode(pre_embeddings))\n",
        "  len_example = embeddings.shape[1] - 1\n",
        "\n",
        "  if 'mlp' in mlp_or_attention:\n",
        "    layer = model.transformer.h[layer_num].mlp\n",
        "  else:\n",
        "    raise NotImplementedError(\"Haven't implemented attention block yet\")\n",
        "  activation_saved = [torch.tensor(0.0)]\n",
        "  def hook(model, input, output):\n",
        "    # The output is a tensor. You can index it to get the activation of a specific neuron.\n",
        "    # Here we're getting the activation of the 0th neuron.\n",
        "    # TODO: Figure out what neruon this is actually grabbing. Why is it\n",
        "    activation = output[0, len_example, neuron_index]\n",
        "    activation_saved[0] = activation\n",
        "  handle = layer.register_forward_hook(hook)\n",
        "\n",
        "  losses = []\n",
        "  dist = 0.0\n",
        "  for i in tqdm(range(100)):\n",
        "    outputs = model(inputs_embeds=embeddings, attention_mask=inputs.attention_mask)\n",
        "    loss = -torch.sigmoid(activation_saved[0])\n",
        "    loss.backward()\n",
        "    optimizer.step()\n",
        "    dist = torch.sum(embeddings - pre_embeddings).item()\n",
        "    losses.append(loss)\n",
        "    if i % 25 == 0:\n",
        "      tqdm.write(f\"\\n{dist} and then {loss}\\n\")\n",
        "      tqdm.write(unembed_and_decode(embeddings)[0])\n",
        "    optimizer.zero_grad()\n",
        "\n",
        "  return losses"
      ]
    },
    {
      "cell_type": "code",
      "execution_count": 8,
      "metadata": {
        "id": "W8CMS1fpLg2Z"
      },
      "outputs": [],
      "source": [
        "# input_sentence_1 = \"In the midst of a vibrant summer morning, with the sun casting its golden rays upon the lush green meadows and the fragrant wildflowers swaying gently in the warm breeze, a multitude of birds chirped melodiously while gracefully soaring across the clear blue sky, their wings glimmering like tiny diamonds as they embraced the boundless freedom of the open air, and nearby, a majestic oak tree stood tall and proud, its branches extending outward in a magnificent display of nature's artistry, providing shade and shelter for a variety of creatures that sought solace beneath its protective canopy, including a family of squirrels playfully darting between the branches, their bushy tails serving as vibrant accents against the backdrop of verdant leaves, and as the day progressed, the distant rumble of thunder gradually grew louder, heralding the imminent arrival of a summer storm, as dark clouds gathered overhead, casting an ephemeral gloom over the once vibrant landscape, yet even in the face of this impending tempest, there was an undeniable beauty in the contrast between the electric flashes of lightning that briefly illuminated the sky and the cascading raindrops that danced upon the earth, breathing life into the thirsty soil and rejuvenating the flora and fauna, and as the storm subsided, a mesmerizing rainbow emerged, arching gracefully across the horizon, its vibrant hues painting a breathtaking scene that filled hearts with awe and wonder, reminding us of the ever-present magic and resilience of nature, and in that fleeting moment, as the world basked in the afterglow of the storm, a profound sense of gratitude and harmony washed over everything, reminding us of our intricate connection to the vast tapestry of existence.\"\n",
        "# input_sentence_2 = \"The fundamental principles of calculus provide a powerful framework for understanding and analyzing the rates of change and accumulation of quantities in various fields of mathematics and science, enabling us to model and solve complex real-world problems with precision and rigor.\"\n",
        "# input_sentence_3 = \"I'm sorry for the misunderstanding, but as an AI developed by OpenAI, I don't have direct access to individual sentences or documents from my training data. I was trained on a mixture of licensed data, data created by human trainers, and publicly available data. These sources may contain a wide range of data, including books, websites, and other texts, so I don't have the ability to recall or generate any specific sentence from the training data. I generate responses based on patterns and information in the data I was trained on.\"\n",
        "# losses = optimize_for_neuron(input_sentence_3, neuron_index=2, layer_num=5)\n",
        "# # Plot losses\n",
        "# plt.figure(figsize=(10,6))\n",
        "# plt.plot([loss.cpu().detach() for loss in losses])\n",
        "# plt.title('Loss curve')\n",
        "# plt.xlabel('Iteration')\n",
        "# plt.ylabel('Loss')\n",
        "# plt.grid(True)\n",
        "# plt.show()"
      ]
    },
    {
      "cell_type": "code",
      "execution_count": 9,
      "metadata": {
        "id": "PMygm2yzt5Pz"
      },
      "outputs": [],
      "source": [
        "\n",
        "def optimize_for_neuron_whole_input(neuron_index=0, layer_num=1, mlp_or_attention=\"mlp\", num_tokens=10, num_iterations=200):\n",
        "    \"\"\"\n",
        "    Args:\n",
        "      neuron_indices: List of indices.\n",
        "      mlp_or_attention (str): 'mlp' or 'attention'\n",
        "    \"\"\"\n",
        "    model = AutoModelForCausalLM.from_pretrained(\"distilgpt2\").to(device)\n",
        "\n",
        "    # Start with random embeddings\n",
        "    embeddings = torch.randn((1, num_tokens, model.config.n_embd), device=device, requires_grad=True)\n",
        "\n",
        "    # Create an optimizer for the embeddings\n",
        "    optimizer = AdamW([embeddings], lr=0.1)  # You may need to adjust the learning rate\n",
        "\n",
        "    if 'mlp' in mlp_or_attention:\n",
        "        layer = model.transformer.h[layer_num].mlp\n",
        "    else:\n",
        "        raise NotImplementedError(\"Haven't implemented attention block yet\")\n",
        "\n",
        "    activation_saved = [torch.tensor(0.0, device=device)]\n",
        "    def hook(model, input, output):\n",
        "        # The output is a tensor. We're getting the average activation of the neuron across all tokens.\n",
        "        activation = output[0, :, neuron_index].mean()\n",
        "        activation_saved[0] = activation\n",
        "    handle = layer.register_forward_hook(hook)\n",
        "\n",
        "    pbar = tqdm(range(num_iterations), position=0, leave=True)\n",
        "    losses = []\n",
        "    for i in pbar:\n",
        "        # Construct input for the model using the embeddings directly\n",
        "        outputs = model(inputs_embeds=embeddings)\n",
        "        # We want to maximize activation, which is equivalent to minimizing negative activation\n",
        "        loss = -torch.sigmoid(activation_saved[0])\n",
        "        loss.backward()\n",
        "        optimizer.step()\n",
        "        losses.append(loss.item())\n",
        "        if i % (num_iterations//30) == 0:\n",
        "            pbar.set_description(f\"\"\"Loss at step {i}: {loss.item()}\\n\\n\n",
        "                                     Current sentence: {unembed_and_decode(embeddings)[0]}\\n\"\"\")\n",
        "        optimizer.zero_grad()\n",
        "\n",
        "    handle.remove()  # Don't forget to remove the hook!\n",
        "    return losses"
      ]
    },
    {
      "cell_type": "code",
      "execution_count": 10,
      "metadata": {
        "id": "scRH0RiR28VY"
      },
      "outputs": [],
      "source": [
        "# losses = optimize_for_neuron_whole_input(neuron_index=2, layer_num=5, num_tokens=20)\n",
        "# # Plot losses\n",
        "# plt.figure(figsize=(10,6))\n",
        "# plt.plot(losses)\n",
        "# plt.title('Loss curve')\n",
        "# plt.xlabel('Iteration')\n",
        "# plt.ylabel('Loss')\n",
        "# plt.grid(True)\n",
        "# plt.show()\n"
      ]
    },
    {
      "cell_type": "code",
      "execution_count": 11,
      "metadata": {
        "id": "O2uMvZaTF7M-"
      },
      "outputs": [],
      "source": [
        "class Gpt2Autoencoder(torch.nn.Module):\n",
        "    def __init__(self, model_checkpoint, latent_dim=100, nhead=2, num_layers=6):\n",
        "        super().__init__()\n",
        "\n",
        "        # Load the pretrained model\n",
        "        base_model = AutoModelForCausalLM.from_pretrained(model_checkpoint)\n",
        "\n",
        "        # Create the encoder\n",
        "        self.encoder = copy.deepcopy(base_model)\n",
        "        self.encoder.lm_head = Linear(base_model.config.n_embd, latent_dim)\n",
        "\n",
        "        # Create the decoder from scratch\n",
        "        self.projection = Linear(latent_dim, base_model.config.n_embd)\n",
        "\n",
        "        encoder_layer = nn.TransformerEncoderLayer(d_model=base_model.config.n_embd, nhead=nhead)\n",
        "        self.decoder = nn.TransformerEncoder(encoder_layer, num_layers=num_layers) # logits?\n",
        "\n",
        "    def forward(self, input_embeds, attention_mask=None):\n",
        "        # Encode the input\n",
        "        latent = self.encoder(inputs_embeds=input_embeds, attention_mask=attention_mask).logits\n",
        "\n",
        "        # Project the latent representation to the original embedding dimension\n",
        "        projected = self.projection(latent)\n",
        "\n",
        "        # Decode the projected representation\n",
        "        reconstructed_embeddings = self.decoder(projected)\n",
        "\n",
        "        return reconstructed_embeddings"
      ]
    },
    {
      "cell_type": "code",
      "source": [
        "model"
      ],
      "metadata": {
        "colab": {
          "base_uri": "https://localhost:8080/"
        },
        "id": "8gvd0cLx8YYQ",
        "outputId": "2ff78e24-3815-4b54-dd09-01a68d750ac7"
      },
      "execution_count": 12,
      "outputs": [
        {
          "output_type": "execute_result",
          "data": {
            "text/plain": [
              "GPT2LMHeadModel(\n",
              "  (transformer): GPT2Model(\n",
              "    (wte): Embedding(50257, 768)\n",
              "    (wpe): Embedding(1024, 768)\n",
              "    (drop): Dropout(p=0.1, inplace=False)\n",
              "    (h): ModuleList(\n",
              "      (0-5): 6 x GPT2Block(\n",
              "        (ln_1): LayerNorm((768,), eps=1e-05, elementwise_affine=True)\n",
              "        (attn): GPT2Attention(\n",
              "          (c_attn): Conv1D()\n",
              "          (c_proj): Conv1D()\n",
              "          (attn_dropout): Dropout(p=0.1, inplace=False)\n",
              "          (resid_dropout): Dropout(p=0.1, inplace=False)\n",
              "        )\n",
              "        (ln_2): LayerNorm((768,), eps=1e-05, elementwise_affine=True)\n",
              "        (mlp): GPT2MLP(\n",
              "          (c_fc): Conv1D()\n",
              "          (c_proj): Conv1D()\n",
              "          (act): NewGELUActivation()\n",
              "          (dropout): Dropout(p=0.1, inplace=False)\n",
              "        )\n",
              "      )\n",
              "    )\n",
              "    (ln_f): LayerNorm((768,), eps=1e-05, elementwise_affine=True)\n",
              "  )\n",
              "  (lm_head): Linear(in_features=768, out_features=50257, bias=False)\n",
              ")"
            ]
          },
          "metadata": {},
          "execution_count": 12
        }
      ]
    },
    {
      "cell_type": "code",
      "source": [
        "class Gpt2AutoencoderBoth(torch.nn.Module):\n",
        "    def __init__(self, model_checkpoint, latent_dim=100, nhead=2, num_layers=6):\n",
        "        super().__init__()\n",
        "\n",
        "        # Load the pretrained model\n",
        "        base_model = AutoModelForCausalLM.from_pretrained(model_checkpoint)\n",
        "\n",
        "        self.encoder = copy.deepcopy(base_model)\n",
        "        self.encoder.lm_head = Linear(base_model.config.n_embd, latent_dim)\n",
        "        self.projection = nn.Linear(latent_dim, base_model.config.n_embd)\n",
        "        self.decoder = copy.deepcopy(base_model) # what about positional embeddings?\n",
        "        self.decoder.lm_head = Linear(base_model.config.n_embd, base_model.config.n_embd)\n",
        "\n",
        "    def forward(self, input_embeds, attention_mask=None):\n",
        "        latent = self.encoder(inputs_embeds=input_embeds, attention_mask=attention_mask).logits\n",
        "        projected = self.projection(latent)\n",
        "        reconstructed_embeddings = self.decoder(inputs_embeds = projected).logits\n",
        "        assert reconstructed_embeddings.shape == input_embeds.shape, f\"shape must match of input and output, got {reconstructed_embeddings.shape} and {input_embeds.shape}\"\n",
        "        return reconstructed_embeddings"
      ],
      "metadata": {
        "id": "dG6TdUb_8HVk"
      },
      "execution_count": 13,
      "outputs": []
    },
    {
      "cell_type": "code",
      "source": [
        "def generate_sentence(model, tokenizer, max_length=50):\n",
        "    # Randomly select a token\n",
        "    random_token = random.randint(0, 50256)\n",
        "\n",
        "    # Convert the token to a tensor\n",
        "    input_ids = torch.tensor([[random_token]]).to(device)\n",
        "\n",
        "    # Generate a sequence of tokens\n",
        "    output = model.generate(input_ids, max_length=max_length, do_sample=True, temperature=1.0, pad_token_id=tokenizer.eos_token_id)\n",
        "\n",
        "    # Decode the tokens into a sentence\n",
        "    sentence = tokenizer.decode(output[0], skip_special_tokens=True)\n",
        "    return sentence\n",
        "\n",
        "\n",
        "def get_sentence_similarity(sentence1, sentence2):\n",
        "\n",
        "    # Get embeddings for both sentences\n",
        "    response1 = openai.Embedding.create(input=sentence1, model=\"text-embedding-ada-002\")\n",
        "    response2 = openai.Embedding.create(input=sentence2, model=\"text-embedding-ada-002\")\n",
        "\n",
        "    embedding1 = np.array(response1['data'][0]['embedding'])\n",
        "    embedding2 = np.array(response2['data'][0]['embedding'])\n",
        "\n",
        "    # Compute cosine similarity between embeddings\n",
        "    similarity = cosine_similarity(embedding1.reshape(1, -1), embedding2.reshape(1, -1))\n",
        "\n",
        "    return similarity[0][0]"
      ],
      "metadata": {
        "id": "Dox4Gb1h0ZtH"
      },
      "execution_count": 14,
      "outputs": []
    },
    {
      "cell_type": "code",
      "source": [
        "# prompt: Generate random pairs of sentences using gpt2, and get the average ada embedding distance\n",
        "\n",
        "def calc_average_emb_distance(num_pairs):\n",
        "    # Initialize the tokenizer\n",
        "    tokenizer = AutoTokenizer.from_pretrained('distilgpt2')\n",
        "\n",
        "    # Initialize gpt2\n",
        "    model = AutoModelForCausalLM.from_pretrained('distilgpt2').to(device)\n",
        "    model.eval()\n",
        "\n",
        "    pbar = tqdm(range(num_pairs))\n",
        "    similarity_values = []\n",
        "    # Generate random pairs of sentences\n",
        "    for i in pbar:\n",
        "        sentence1 = generate_sentence(model, tokenizer, max_length=50)\n",
        "        sentence2 = generate_sentence(model, tokenizer, max_length=50)\n",
        "        # Compute cosine similarity between embeddings\n",
        "        similarity = get_sentence_similarity(sentence1, sentence2)\n",
        "        # Store the similarity value\n",
        "        similarity_values.append(similarity)\n",
        "        pbar.set_description(f\"Running average: {np.mean(similarity_values)}\")\n",
        "    # Print the average similarity value\n",
        "    return np.mean(similarity_values)\n",
        "\n",
        "# calc_average_emb_distance(10) #0.6956303872374302"
      ],
      "metadata": {
        "id": "JdqGb4lYuT8M"
      },
      "execution_count": 15,
      "outputs": []
    },
    {
      "cell_type": "code",
      "execution_count": 16,
      "metadata": {
        "id": "llYWpTHM3Aol"
      },
      "outputs": [],
      "source": [
        "def train_autoencoder(autoencoder, criterion, optimizer, model, tokenizer, num_epochs=1000, print_every=1, save_path=\"transformer-autoencoder.pt\", load_path=None):\n",
        "    scaler = GradScaler()  # Enables mixed-precision training\n",
        "    loss_values = []\n",
        "    similarity_values = []\n",
        "\n",
        "    # Load the model's parameters from a checkpoint if provided\n",
        "    if load_path is not None:\n",
        "        autoencoder.load_state_dict(torch.load(load_path))\n",
        "\n",
        "    pbar = tqdm(range(num_epochs))\n",
        "    # Training loop\n",
        "    for epoch in pbar:\n",
        "        # Generate a sentence with the pretrained model\n",
        "        input_sentence = generate_sentence(model, tokenizer, max_length=50)\n",
        "\n",
        "        # Prepare the inputs for the autoencoder\n",
        "        input_ids = tokenizer.encode(input_sentence, return_tensors=\"pt\").to(device)\n",
        "        original_embeddings = model.transformer.wte(input_ids)\n",
        "\n",
        "        # Run the autoencoder and compute the loss\n",
        "        with autocast():\n",
        "            reconstructed_embeddings = autoencoder(original_embeddings)\n",
        "            loss = criterion(reconstructed_embeddings, original_embeddings)\n",
        "\n",
        "        # Backpropagation\n",
        "        scaler.scale(loss).backward()\n",
        "        scaler.step(optimizer)\n",
        "        scaler.update()\n",
        "\n",
        "        # Record the loss value for plotting\n",
        "        loss_values.append(loss.item())\n",
        "\n",
        "        # Compute the sentence similarity between the original and reconstructed sentences\n",
        "        reconstructed_sentence = unembed_and_decode(reconstructed_embeddings)\n",
        "\n",
        "        # Print progress and save model every 'print_every' epochs\n",
        "        if epoch % print_every == 0:\n",
        "            similarity = get_sentence_similarity(input_sentence, reconstructed_sentence)\n",
        "            similarity_values.append(similarity)\n",
        "            #clear_output(wait=True)\n",
        "            pbar.set_description(f\"\"\"Original: {input_sentence} \\n\n",
        "                      Reconstructed: {reconstructed_sentence} \\n\n",
        "                      Epoch {epoch}/{num_epochs}, Loss: {loss.item()}, Similarity: {similarity}\\n\"\"\")\n",
        "            torch.save(autoencoder.state_dict(), save_path)\n",
        "\n",
        "    # Plot the loss values and similarities\n",
        "    fig, ax1 = plt.subplots(figsize=(10, 6))\n",
        "\n",
        "    color = 'tab:blue'\n",
        "    ax1.set_xlabel('Training Step')\n",
        "    ax1.set_ylabel('Loss', color=color)\n",
        "    ax1.plot(loss_values, color=color)\n",
        "    ax1.tick_params(axis='y', labelcolor=color)\n",
        "\n",
        "    ax2 = ax1.twinx()  # instantiate a second axes that shares the same x-axis\n",
        "\n",
        "    color = 'tab:red'\n",
        "    ax2.set_ylabel('Similarity', color=color)  # we already handled the x-label with ax1\n",
        "    ax2.plot(similarity_values, color=color)\n",
        "    ax2.tick_params(axis='y', labelcolor=color)\n",
        "\n",
        "    fig.tight_layout()  # otherwise the right y-label is slightly clipped\n",
        "    plt.show()\n",
        "\n",
        "\n",
        "\n"
      ]
    },
    {
      "cell_type": "code",
      "source": [
        "import weightwatcher as ww"
      ],
      "metadata": {
        "id": "1GuGtJAoYQJ0"
      },
      "execution_count": 17,
      "outputs": []
    },
    {
      "cell_type": "code",
      "execution_count": 22,
      "metadata": {
        "colab": {
          "base_uri": "https://localhost:8080/"
        },
        "id": "EfN8JUtdDrea",
        "outputId": "081930f8-4a15-49de-be3c-5f6c3ebad1df"
      },
      "outputs": [
        {
          "output_type": "stream",
          "name": "stderr",
          "text": [
            "/usr/local/lib/python3.10/dist-packages/numpy/core/fromnumeric.py:86: RuntimeWarning: overflow encountered in reduce\n",
            "  return ufunc.reduce(obj, axis, dtype, out, **passkwargs)\n",
            "/usr/local/lib/python3.10/dist-packages/numpy/core/fromnumeric.py:86: RuntimeWarning: overflow encountered in reduce\n",
            "  return ufunc.reduce(obj, axis, dtype, out, **passkwargs)\n",
            "/usr/local/lib/python3.10/dist-packages/numpy/core/fromnumeric.py:86: RuntimeWarning: overflow encountered in reduce\n",
            "  return ufunc.reduce(obj, axis, dtype, out, **passkwargs)\n",
            "/usr/local/lib/python3.10/dist-packages/numpy/core/fromnumeric.py:86: RuntimeWarning: overflow encountered in reduce\n",
            "  return ufunc.reduce(obj, axis, dtype, out, **passkwargs)\n"
          ]
        }
      ],
      "source": [
        "# Initialize the tokenizer\n",
        "tokenizer = AutoTokenizer.from_pretrained('distilgpt2')\n",
        "\n",
        "# Initialize autoencoder\n",
        "autoencoder = Gpt2AutoencoderBoth('distilgpt2').to(device)\n",
        "\n",
        "# Initialize loss function, optimizer, and gradient scaler for mixed-precision training\n",
        "criterion = torch.nn.MSELoss()\n",
        "optimizer = torch.optim.AdamW(autoencoder.parameters(), lr=0.1)\n",
        "\n",
        "# # watch the weights\n",
        "# watcher = ww.WeightWatcher(model=autoencoder)\n",
        "# details = watcher.analyze(plot=False)"
      ]
    },
    {
      "cell_type": "code",
      "source": [
        "# Call the training function without a path to a checkpoint\n",
        "train_autoencoder(autoencoder, criterion, optimizer, model, tokenizer, num_epochs=50, print_every=25) #load_path ="
      ],
      "metadata": {
        "colab": {
          "base_uri": "https://localhost:8080/",
          "height": 695,
          "referenced_widgets": [
            "086fc995c00640f785f8ecb8490ff0c4",
            "7b135e2e51a54778bc2ee8ab2264d4a2",
            "08b09112f8d948be81c37c126adced5e",
            "e308e38e22c547b4b2d5d7306b0bbfa9",
            "0b37744a468347b2952caf43f3a56f90",
            "48961f11af66440f99b5fb2c3db4de7a",
            "f9240170b35a46eaa9292e93c811f935",
            "24f3ebab719f44248966db5f994d3d6d",
            "ecfa3712b0d146c28a005b16647dabcc",
            "a260d2e8d5cd48e3b8f7d50a6c33d7d7",
            "790178b004b346a885744f3394968b01"
          ]
        },
        "id": "CZqskcSgZIJw",
        "outputId": "3242a724-5955-4abd-e2a3-792af646a2be"
      },
      "execution_count": 23,
      "outputs": [
        {
          "output_type": "display_data",
          "data": {
            "text/plain": [
              "  0%|          | 0/100 [00:00<?, ?it/s]"
            ],
            "application/vnd.jupyter.widget-view+json": {
              "version_major": 2,
              "version_minor": 0,
              "model_id": "086fc995c00640f785f8ecb8490ff0c4"
            }
          },
          "metadata": {}
        },
        {
          "output_type": "display_data",
          "data": {
            "text/plain": [
              "<Figure size 1000x600 with 2 Axes>"
            ],
            "image/png": "[encoded data removed]"
          },
          "metadata": {}
        }
      ]
    },
    {
      "cell_type": "code",
      "source": [
        "details2 = watcher.analyze(plot=True) # warning, this prints a lot of plots and takes forever"
      ],
      "metadata": {
        "colab": {
          "base_uri": "https://localhost:8080/"
        },
        "id": "mZdGTNmAZazH",
        "outputId": "f3455387-0062-436d-c74f-626a0543e313"
      },
      "execution_count": 21,
      "outputs": [
        {
          "output_type": "stream",
          "name": "stderr",
          "text": [
            "/usr/local/lib/python3.10/dist-packages/numpy/core/fromnumeric.py:86: RuntimeWarning: overflow encountered in reduce\n",
            "  return ufunc.reduce(obj, axis, dtype, out, **passkwargs)\n",
            "/usr/local/lib/python3.10/dist-packages/numpy/core/fromnumeric.py:86: RuntimeWarning: overflow encountered in reduce\n",
            "  return ufunc.reduce(obj, axis, dtype, out, **passkwargs)\n",
            "/usr/local/lib/python3.10/dist-packages/numpy/core/fromnumeric.py:86: RuntimeWarning: overflow encountered in reduce\n",
            "  return ufunc.reduce(obj, axis, dtype, out, **passkwargs)\n",
            "/usr/local/lib/python3.10/dist-packages/numpy/core/fromnumeric.py:86: RuntimeWarning: overflow encountered in reduce\n",
            "  return ufunc.reduce(obj, axis, dtype, out, **passkwargs)\n"
          ]
        }
      ]
    },
    {
      "cell_type": "code",
      "source": [
        "def evaluate_autoencoder(autoencoder, model, tokenizer, num_samples=10, print_every=3):\n",
        "    # Prepare the autoencoder for evaluation\n",
        "    # autoencoder.eval() # <- do we need to implement this?\n",
        "\n",
        "    similarities = []\n",
        "\n",
        "    for i in tqdm(range(num_samples)):\n",
        "        # Generate a sentence with the model\n",
        "        input_sentence = generate_sentence(model, tokenizer, max_length=50)\n",
        "\n",
        "        # Encode the sentence\n",
        "        input_ids = tokenizer.encode(input_sentence, return_tensors=\"pt\").to(device)\n",
        "        original_embeddings = model.transformer.wte(input_ids)\n",
        "\n",
        "        # Pass the encoded sentence through the autoencoder\n",
        "        with torch.no_grad():\n",
        "            reconstructed_embeddings = autoencoder(original_embeddings)\n",
        "\n",
        "        # Decode the output of the autoencoder\n",
        "        reconstructed_sentence = unembed_and_decode(reconstructed_embeddings)\n",
        "\n",
        "        # Compute the sentence similarity between the original and reconstructed sentences\n",
        "        similarity = get_sentence_similarity(input_sentence, reconstructed_sentence)\n",
        "        similarities.append(similarity)\n",
        "\n",
        "        if i % print_every==0:\n",
        "          print(f\"Original sentence: {input_sentence}\")\n",
        "          print(f\"Reconstructed sentence: {reconstructed_sentence}\")\n",
        "          print(f\"Similarity: {similarity}\")\n",
        "          print()\n",
        "\n",
        "    # Compute the average sentence similarity\n",
        "    average_similarity = np.mean(similarities)\n",
        "\n",
        "    print(f\"Average sentence similarity between original and reconstructed sentences: {average_similarity}\")\n"
      ],
      "metadata": {
        "id": "pOsJP8pklgu9"
      },
      "execution_count": null,
      "outputs": []
    },
    {
      "cell_type": "code",
      "source": [
        "# Initialize the tokenizer\n",
        "tokenizer = AutoTokenizer.from_pretrained('distilgpt2')\n",
        "\n",
        "# Initialize autoencoder\n",
        "autoencoder = Gpt2Autoencoder('distilgpt2').to(device)\n",
        "autoencoder.load_state_dict(torch.load(\"transformer-autoencoder.pt\"))\n",
        "\n",
        "# Initialize loss function, optimizer, and gradient scaler for mixed-precision training\n",
        "criterion = torch.nn.MSELoss()\n",
        "optimizer = torch.optim.AdamW(autoencoder.parameters())\n",
        "scaler = GradScaler()\n",
        "\n",
        "# Call the training function without a path to a checkpoint\n",
        "evaluate_autoencoder(autoencoder, model, tokenizer) #load_path ="
      ],
      "metadata": {
        "id": "i_LMQoJ5ljxv"
      },
      "execution_count": null,
      "outputs": []
    },
    {
      "cell_type": "code",
      "execution_count": null,
      "metadata": {
        "id": "NDnci_DnWaOV"
      },
      "outputs": [],
      "source": [
        "def optimize_for_neuron_whole_input(neuron_index=0, layer_num=1, mlp_or_attention=\"mlp\", num_tokens=10, num_iterations=200):\n",
        "    \"\"\"\n",
        "    Args:\n",
        "      neuron_indices: List of indices.\n",
        "      mlp_or_attention (str): 'mlp' or 'attention'\n",
        "    \"\"\"\n",
        "    model = AutoModelForCausalLM.from_pretrained(\"distilgpt2\").to(device)\n",
        "    autoencoder = Gpt2Autoencoder('distilgpt2').to(device)\n",
        "    autoencoder.load_state_dict(torch.load('transformer-autoencoder.pt'))\n",
        "\n",
        "    # Get the dimensionality of the latent space\n",
        "    latent_dim = autoencoder.encoder.lm_head.weight.shape[0]\n",
        "\n",
        "    # Start with random latent vectors\n",
        "    latent_vectors = torch.randn((1, num_tokens, latent_dim), device=device, requires_grad=True)\n",
        "\n",
        "    # Create an optimizer for the latent vectors\n",
        "    optimizer = AdamW([latent_vectors], lr=0.1)  # You may need to adjust the learning rate\n",
        "\n",
        "    if 'mlp' in mlp_or_attention:\n",
        "        layer = model.transformer.h[layer_num].mlp.c_fc\n",
        "    elif 'attention' in mlp_or_attention:\n",
        "        layer = model.transformer.h[layer_num].attn.c_attn\n",
        "    else:\n",
        "        raise NotImplementedError(\"Haven't implemented attention block yet\")\n",
        "\n",
        "    activation_saved = [torch.tensor(0.0, device=device)]\n",
        "    def hook(model, input, output):\n",
        "        # The output is a tensor. We're getting the average activation of the neuron across all tokens.\n",
        "        activation = output[0, :, neuron_index].mean()\n",
        "        activation_saved[0] = activation\n",
        "    handle = layer.register_forward_hook(hook)\n",
        "\n",
        "    losses = []\n",
        "    for i in tqdm(range(num_iterations), position=0, leave=True):\n",
        "        # Construct input for the model using the embeddings directly\n",
        "        embeddings = autoencoder.decoder(autoencoder.projection(latent_vectors))\n",
        "        outputs = model(inputs_embeds=embeddings)\n",
        "        # We want to maximize activation, which is equivalent to minimizing negative activation\n",
        "        loss = -torch.sigmoid(activation_saved[0])\n",
        "        loss.backward()\n",
        "        optimizer.step()\n",
        "        losses.append(loss.item())\n",
        "        if i % (num_iterations//30) == 0:\n",
        "            tqdm.write(f\"Loss at step {i}: {loss.item()}\\n\", end='')\n",
        "            tqdm.write(unembed_and_decode(embeddings)[0], end='')\n",
        "        optimizer.zero_grad()\n",
        "\n",
        "    handle.remove()  # Don't forget to remove the hook!\n",
        "    return losses\n",
        "\n",
        "losses = optimize_for_neuron_whole_input(neuron_index=2, layer_num=5, num_tokens=20)"
      ]
    },
    {
      "cell_type": "code",
      "source": [
        "autoencoder"
      ],
      "metadata": {
        "id": "6NRzXJK5nijX"
      },
      "execution_count": null,
      "outputs": []
    },
    {
      "cell_type": "code",
      "source": [],
      "metadata": {
        "id": "Fc48JiFxnoro"
      },
      "execution_count": null,
      "outputs": []
    }
  ],
  "metadata": {
    "accelerator": "GPU",
    "colab": {
      "provenance": [],
      "include_colab_link": true
    },
    "kernelspec": {
      "display_name": "Python 3",
      "name": "python3"
    },
    "language_info": {
      "name": "python"
    },
    "widgets": {
      "application/vnd.jupyter.widget-state+json": {
        "086fc995c00640f785f8ecb8490ff0c4": {
          "model_module": "@jupyter-widgets/controls",
          "model_name": "HBoxModel",
          "model_module_version": "1.5.0",
          "state": {
            "_dom_classes": [],
            "_model_module": "@jupyter-widgets/controls",
            "_model_module_version": "1.5.0",
            "_model_name": "HBoxModel",
            "_view_count": null,
            "_view_module": "@jupyter-widgets/controls",
            "_view_module_version": "1.5.0",
            "_view_name": "HBoxView",
            "box_style": "",
            "children": [
              "IPY_MODEL_7b135e2e51a54778bc2ee8ab2264d4a2",
              "IPY_MODEL_08b09112f8d948be81c37c126adced5e",
              "IPY_MODEL_e308e38e22c547b4b2d5d7306b0bbfa9"
            ],
            "layout": "IPY_MODEL_0b37744a468347b2952caf43f3a56f90"
          }
        },
        "7b135e2e51a54778bc2ee8ab2264d4a2": {
          "model_module": "@jupyter-widgets/controls",
          "model_name": "HTMLModel",
          "model_module_version": "1.5.0",
          "state": {
            "_dom_classes": [],
            "_model_module": "@jupyter-widgets/controls",
            "_model_module_version": "1.5.0",
            "_model_name": "HTMLModel",
            "_view_count": null,
            "_view_module": "@jupyter-widgets/controls",
            "_view_module_version": "1.5.0",
            "_view_name": "HTMLView",
            "description": "",
            "description_tooltip": null,
            "layout": "IPY_MODEL_48961f11af66440f99b5fb2c3db4de7a",
            "placeholder": "​",
            "style": "IPY_MODEL_f9240170b35a46eaa9292e93c811f935",
            "value": "Original: angered In a letter to the House&#x27;s ethics committee Saturday, Reps. Mike Thompson, Eshia Banks of Ohio, and Rep. Louie Gohmert of Texas, released, &quot;Banks&#x27; refusal to uphold ethical guidelines and the rules of \n\n                      Reconstructed: [&#x27;rueoufoufruerueoufoufoufrueoufruerueruerueruerueruerueruerueruerueruerueoufoufoufoufruerueoufrueoufoufoufrueoufoufrueoufruerueoufruerueoufoufoufruerue&#x27;] \n\n                      Epoch 75/100, Loss: 4.120894432067871, Similarity: 0.7498944700472417\n: 100%"
          }
        },
        "08b09112f8d948be81c37c126adced5e": {
          "model_module": "@jupyter-widgets/controls",
          "model_name": "FloatProgressModel",
          "model_module_version": "1.5.0",
          "state": {
            "_dom_classes": [],
            "_model_module": "@jupyter-widgets/controls",
            "_model_module_version": "1.5.0",
            "_model_name": "FloatProgressModel",
            "_view_count": null,
            "_view_module": "@jupyter-widgets/controls",
            "_view_module_version": "1.5.0",
            "_view_name": "ProgressView",
            "bar_style": "success",
            "description": "",
            "description_tooltip": null,
            "layout": "IPY_MODEL_24f3ebab719f44248966db5f994d3d6d",
            "max": 100,
            "min": 0,
            "orientation": "horizontal",
            "style": "IPY_MODEL_ecfa3712b0d146c28a005b16647dabcc",
            "value": 100
          }
        },
        "e308e38e22c547b4b2d5d7306b0bbfa9": {
          "model_module": "@jupyter-widgets/controls",
          "model_name": "HTMLModel",
          "model_module_version": "1.5.0",
          "state": {
            "_dom_classes": [],
            "_model_module": "@jupyter-widgets/controls",
            "_model_module_version": "1.5.0",
            "_model_name": "HTMLModel",
            "_view_count": null,
            "_view_module": "@jupyter-widgets/controls",
            "_view_module_version": "1.5.0",
            "_view_name": "HTMLView",
            "description": "",
            "description_tooltip": null,
            "layout": "IPY_MODEL_a260d2e8d5cd48e3b8f7d50a6c33d7d7",
            "placeholder": "​",
            "style": "IPY_MODEL_790178b004b346a885744f3394968b01",
            "value": " 100/100 [01:16&lt;00:00,  2.95it/s]"
          }
        },
        "0b37744a468347b2952caf43f3a56f90": {
          "model_module": "@jupyter-widgets/base",
          "model_name": "LayoutModel",
          "model_module_version": "1.2.0",
          "state": {
            "_model_module": "@jupyter-widgets/base",
            "_model_module_version": "1.2.0",
            "_model_name": "LayoutModel",
            "_view_count": null,
            "_view_module": "@jupyter-widgets/base",
            "_view_module_version": "1.2.0",
            "_view_name": "LayoutView",
            "align_content": null,
            "align_items": null,
            "align_self": null,
            "border": null,
            "bottom": null,
            "display": null,
            "flex": null,
            "flex_flow": null,
            "grid_area": null,
            "grid_auto_columns": null,
            "grid_auto_flow": null,
            "grid_auto_rows": null,
            "grid_column": null,
            "grid_gap": null,
            "grid_row": null,
            "grid_template_areas": null,
            "grid_template_columns": null,
            "grid_template_rows": null,
            "height": null,
            "justify_content": null,
            "justify_items": null,
            "left": null,
            "margin": null,
            "max_height": null,
            "max_width": null,
            "min_height": null,
            "min_width": null,
            "object_fit": null,
            "object_position": null,
            "order": null,
            "overflow": null,
            "overflow_x": null,
            "overflow_y": null,
            "padding": null,
            "right": null,
            "top": null,
            "visibility": null,
            "width": null
          }
        },
        "48961f11af66440f99b5fb2c3db4de7a": {
          "model_module": "@jupyter-widgets/base",
          "model_name": "LayoutModel",
          "model_module_version": "1.2.0",
          "state": {
            "_model_module": "@jupyter-widgets/base",
            "_model_module_version": "1.2.0",
            "_model_name": "LayoutModel",
            "_view_count": null,
            "_view_module": "@jupyter-widgets/base",
            "_view_module_version": "1.2.0",
            "_view_name": "LayoutView",
            "align_content": null,
            "align_items": null,
            "align_self": null,
            "border": null,
            "bottom": null,
            "display": null,
            "flex": null,
            "flex_flow": null,
            "grid_area": null,
            "grid_auto_columns": null,
            "grid_auto_flow": null,
            "grid_auto_rows": null,
            "grid_column": null,
            "grid_gap": null,
            "grid_row": null,
            "grid_template_areas": null,
            "grid_template_columns": null,
            "grid_template_rows": null,
            "height": null,
            "justify_content": null,
            "justify_items": null,
            "left": null,
            "margin": null,
            "max_height": null,
            "max_width": null,
            "min_height": null,
            "min_width": null,
            "object_fit": null,
            "object_position": null,
            "order": null,
            "overflow": null,
            "overflow_x": null,
            "overflow_y": null,
            "padding": null,
            "right": null,
            "top": null,
            "visibility": null,
            "width": null
          }
        },
        "f9240170b35a46eaa9292e93c811f935": {
          "model_module": "@jupyter-widgets/controls",
          "model_name": "DescriptionStyleModel",
          "model_module_version": "1.5.0",
          "state": {
            "_model_module": "@jupyter-widgets/controls",
            "_model_module_version": "1.5.0",
            "_model_name": "DescriptionStyleModel",
            "_view_count": null,
            "_view_module": "@jupyter-widgets/base",
            "_view_module_version": "1.2.0",
            "_view_name": "StyleView",
            "description_width": ""
          }
        },
        "24f3ebab719f44248966db5f994d3d6d": {
          "model_module": "@jupyter-widgets/base",
          "model_name": "LayoutModel",
          "model_module_version": "1.2.0",
          "state": {
            "_model_module": "@jupyter-widgets/base",
            "_model_module_version": "1.2.0",
            "_model_name": "LayoutModel",
            "_view_count": null,
            "_view_module": "@jupyter-widgets/base",
            "_view_module_version": "1.2.0",
            "_view_name": "LayoutView",
            "align_content": null,
            "align_items": null,
            "align_self": null,
            "border": null,
            "bottom": null,
            "display": null,
            "flex": null,
            "flex_flow": null,
            "grid_area": null,
            "grid_auto_columns": null,
            "grid_auto_flow": null,
            "grid_auto_rows": null,
            "grid_column": null,
            "grid_gap": null,
            "grid_row": null,
            "grid_template_areas": null,
            "grid_template_columns": null,
            "grid_template_rows": null,
            "height": null,
            "justify_content": null,
            "justify_items": null,
            "left": null,
            "margin": null,
            "max_height": null,
            "max_width": null,
            "min_height": null,
            "min_width": null,
            "object_fit": null,
            "object_position": null,
            "order": null,
            "overflow": null,
            "overflow_x": null,
            "overflow_y": null,
            "padding": null,
            "right": null,
            "top": null,
            "visibility": null,
            "width": null
          }
        },
        "ecfa3712b0d146c28a005b16647dabcc": {
          "model_module": "@jupyter-widgets/controls",
          "model_name": "ProgressStyleModel",
          "model_module_version": "1.5.0",
          "state": {
            "_model_module": "@jupyter-widgets/controls",
            "_model_module_version": "1.5.0",
            "_model_name": "ProgressStyleModel",
            "_view_count": null,
            "_view_module": "@jupyter-widgets/base",
            "_view_module_version": "1.2.0",
            "_view_name": "StyleView",
            "bar_color": null,
            "description_width": ""
          }
        },
        "a260d2e8d5cd48e3b8f7d50a6c33d7d7": {
          "model_module": "@jupyter-widgets/base",
          "model_name": "LayoutModel",
          "model_module_version": "1.2.0",
          "state": {
            "_model_module": "@jupyter-widgets/base",
            "_model_module_version": "1.2.0",
            "_model_name": "LayoutModel",
            "_view_count": null,
            "_view_module": "@jupyter-widgets/base",
            "_view_module_version": "1.2.0",
            "_view_name": "LayoutView",
            "align_content": null,
            "align_items": null,
            "align_self": null,
            "border": null,
            "bottom": null,
            "display": null,
            "flex": null,
            "flex_flow": null,
            "grid_area": null,
            "grid_auto_columns": null,
            "grid_auto_flow": null,
            "grid_auto_rows": null,
            "grid_column": null,
            "grid_gap": null,
            "grid_row": null,
            "grid_template_areas": null,
            "grid_template_columns": null,
            "grid_template_rows": null,
            "height": null,
            "justify_content": null,
            "justify_items": null,
            "left": null,
            "margin": null,
            "max_height": null,
            "max_width": null,
            "min_height": null,
            "min_width": null,
            "object_fit": null,
            "object_position": null,
            "order": null,
            "overflow": null,
            "overflow_x": null,
            "overflow_y": null,
            "padding": null,
            "right": null,
            "top": null,
            "visibility": null,
            "width": null
          }
        },
        "790178b004b346a885744f3394968b01": {
          "model_module": "@jupyter-widgets/controls",
          "model_name": "DescriptionStyleModel",
          "model_module_version": "1.5.0",
          "state": {
            "_model_module": "@jupyter-widgets/controls",
            "_model_module_version": "1.5.0",
            "_model_name": "DescriptionStyleModel",
            "_view_count": null,
            "_view_module": "@jupyter-widgets/base",
            "_view_module_version": "1.2.0",
            "_view_name": "StyleView",
            "description_width": ""
          }
        }
      }
    }
  },
  "nbformat": 4,
  "nbformat_minor": 0
}