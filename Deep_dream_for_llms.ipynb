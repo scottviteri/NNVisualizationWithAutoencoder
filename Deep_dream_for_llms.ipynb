{
  "nbformat": 4,
  "nbformat_minor": 0,
  "metadata": {
    "colab": {
      "provenance": [],
      "gpuType": "T4"
    },
    "kernelspec": {
      "name": "python3",
      "display_name": "Python 3"
    },
    "language_info": {
      "name": "python"
    },
    "accelerator": "GPU"
  },
  "cells": [
    {
      "cell_type": "markdown",
      "source": [
        "## Imports and download"
      ],
      "metadata": {
        "id": "zMjqT2LgtTUD"
      }
    },
    {
      "cell_type": "code",
      "execution_count": 146,
      "metadata": {
        "colab": {
          "base_uri": "https://localhost:8080/"
        },
        "id": "NkSmfdseZT7-",
        "outputId": "6ad15c25-4ffb-4c30-dfc8-aaa2c72c7932"
      },
      "outputs": [
        {
          "output_type": "stream",
          "name": "stdout",
          "text": [
            "Running as a Colab notebook\n",
            "Requirement already satisfied: datasets in /usr/local/lib/python3.10/dist-packages (2.13.1)\n",
            "Requirement already satisfied: transformers in /usr/local/lib/python3.10/dist-packages (4.30.2)\n",
            "Requirement already satisfied: numpy>=1.17 in /usr/local/lib/python3.10/dist-packages (from datasets) (1.22.4)\n",
            "Requirement already satisfied: pyarrow>=8.0.0 in /usr/local/lib/python3.10/dist-packages (from datasets) (9.0.0)\n",
            "Requirement already satisfied: dill<0.3.7,>=0.3.0 in /usr/local/lib/python3.10/dist-packages (from datasets) (0.3.6)\n",
            "Requirement already satisfied: pandas in /usr/local/lib/python3.10/dist-packages (from datasets) (1.5.3)\n",
            "Requirement already satisfied: requests>=2.19.0 in /usr/local/lib/python3.10/dist-packages (from datasets) (2.27.1)\n",
            "Requirement already satisfied: tqdm>=4.62.1 in /usr/local/lib/python3.10/dist-packages (from datasets) (4.65.0)\n",
            "Requirement already satisfied: xxhash in /usr/local/lib/python3.10/dist-packages (from datasets) (3.2.0)\n",
            "Requirement already satisfied: multiprocess in /usr/local/lib/python3.10/dist-packages (from datasets) (0.70.14)\n",
            "Requirement already satisfied: fsspec[http]>=2021.11.1 in /usr/local/lib/python3.10/dist-packages (from datasets) (2023.6.0)\n",
            "Requirement already satisfied: aiohttp in /usr/local/lib/python3.10/dist-packages (from datasets) (3.8.4)\n",
            "Requirement already satisfied: huggingface-hub<1.0.0,>=0.11.0 in /usr/local/lib/python3.10/dist-packages (from datasets) (0.16.4)\n",
            "Requirement already satisfied: packaging in /usr/local/lib/python3.10/dist-packages (from datasets) (23.1)\n",
            "Requirement already satisfied: pyyaml>=5.1 in /usr/local/lib/python3.10/dist-packages (from datasets) (6.0)\n",
            "Requirement already satisfied: filelock in /usr/local/lib/python3.10/dist-packages (from transformers) (3.12.2)\n",
            "Requirement already satisfied: regex!=2019.12.17 in /usr/local/lib/python3.10/dist-packages (from transformers) (2022.10.31)\n",
            "Requirement already satisfied: tokenizers!=0.11.3,<0.14,>=0.11.1 in /usr/local/lib/python3.10/dist-packages (from transformers) (0.13.3)\n",
            "Requirement already satisfied: safetensors>=0.3.1 in /usr/local/lib/python3.10/dist-packages (from transformers) (0.3.1)\n",
            "Requirement already satisfied: attrs>=17.3.0 in /usr/local/lib/python3.10/dist-packages (from aiohttp->datasets) (23.1.0)\n",
            "Requirement already satisfied: charset-normalizer<4.0,>=2.0 in /usr/local/lib/python3.10/dist-packages (from aiohttp->datasets) (2.0.12)\n",
            "Requirement already satisfied: multidict<7.0,>=4.5 in /usr/local/lib/python3.10/dist-packages (from aiohttp->datasets) (6.0.4)\n",
            "Requirement already satisfied: async-timeout<5.0,>=4.0.0a3 in /usr/local/lib/python3.10/dist-packages (from aiohttp->datasets) (4.0.2)\n",
            "Requirement already satisfied: yarl<2.0,>=1.0 in /usr/local/lib/python3.10/dist-packages (from aiohttp->datasets) (1.9.2)\n",
            "Requirement already satisfied: frozenlist>=1.1.1 in /usr/local/lib/python3.10/dist-packages (from aiohttp->datasets) (1.3.3)\n",
            "Requirement already satisfied: aiosignal>=1.1.2 in /usr/local/lib/python3.10/dist-packages (from aiohttp->datasets) (1.3.1)\n",
            "Requirement already satisfied: typing-extensions>=3.7.4.3 in /usr/local/lib/python3.10/dist-packages (from huggingface-hub<1.0.0,>=0.11.0->datasets) (4.7.1)\n",
            "Requirement already satisfied: urllib3<1.27,>=1.21.1 in /usr/local/lib/python3.10/dist-packages (from requests>=2.19.0->datasets) (1.26.16)\n",
            "Requirement already satisfied: certifi>=2017.4.17 in /usr/local/lib/python3.10/dist-packages (from requests>=2.19.0->datasets) (2023.5.7)\n",
            "Requirement already satisfied: idna<4,>=2.5 in /usr/local/lib/python3.10/dist-packages (from requests>=2.19.0->datasets) (3.4)\n",
            "Requirement already satisfied: python-dateutil>=2.8.1 in /usr/local/lib/python3.10/dist-packages (from pandas->datasets) (2.8.2)\n",
            "Requirement already satisfied: pytz>=2020.1 in /usr/local/lib/python3.10/dist-packages (from pandas->datasets) (2022.7.1)\n",
            "Requirement already satisfied: six>=1.5 in /usr/local/lib/python3.10/dist-packages (from python-dateutil>=2.8.1->pandas->datasets) (1.16.0)\n"
          ]
        }
      ],
      "source": [
        "# Janky code to do different setup when run in a Colab notebook vs VSCode\n",
        "try:\n",
        "    import google.colab\n",
        "    IN_COLAB = True\n",
        "    print(\"Running as a Colab notebook\")\n",
        "    ! pip install datasets transformers\n",
        "except:\n",
        "    IN_COLAB = False\n",
        "    print(\"Running as a Jupyter notebook - intended for development only!\")\n",
        "    from IPython import get_ipython\n",
        "\n",
        "    ipython = get_ipython()\n",
        "    # Code to automatically update the HookedTransformer code as its edited without restarting the kernel\n",
        "    ipython.magic(\"load_ext autoreload\")\n",
        "    ipython.magic(\"autoreload 2\")\n"
      ]
    },
    {
      "cell_type": "code",
      "source": [
        "# from huggingface_hub import notebook_login\n",
        "\n",
        "# notebook_login()"
      ],
      "metadata": {
        "id": "eNbLhXw4ZXht"
      },
      "execution_count": 147,
      "outputs": []
    },
    {
      "cell_type": "code",
      "source": [
        "import transformers\n",
        "\n",
        "print(transformers.__version__)"
      ],
      "metadata": {
        "colab": {
          "base_uri": "https://localhost:8080/"
        },
        "id": "T75qU5PAZgYo",
        "outputId": "3657f4fe-77e1-473d-faba-72734918ab0e"
      },
      "execution_count": 148,
      "outputs": [
        {
          "output_type": "stream",
          "name": "stdout",
          "text": [
            "4.30.2\n"
          ]
        }
      ]
    },
    {
      "cell_type": "code",
      "source": [
        "import torch\n",
        "from torch.optim import AdamW\n",
        "from tqdm import tqdm\n",
        "import matplotlib.pyplot as plt\n",
        "\n",
        "# Check if CUDA is available and choose device accordingly\n",
        "device = torch.device(\"cuda\" if torch.cuda.is_available() else \"cpu\")"
      ],
      "metadata": {
        "id": "yN0oWGd7f9pJ"
      },
      "execution_count": 149,
      "outputs": []
    },
    {
      "cell_type": "code",
      "source": [
        "model_checkpoint = \"distilgpt2\"\n",
        "from transformers import AutoTokenizer\n",
        "\n",
        "tokenizer = AutoTokenizer.from_pretrained(model_checkpoint, use_fast=True)\n",
        "from transformers import AutoModelForCausalLM"
      ],
      "metadata": {
        "id": "-mQaswfQZ_o1"
      },
      "execution_count": 151,
      "outputs": []
    },
    {
      "cell_type": "code",
      "source": [
        "# model = AutoModelForCausalLM.from_pretrained(model_checkpoint).to(device)\n",
        "# model"
      ],
      "metadata": {
        "id": "ea-1zt3JaDdj"
      },
      "execution_count": 152,
      "outputs": []
    },
    {
      "cell_type": "markdown",
      "source": [
        "## Hook into model and optimize sentence"
      ],
      "metadata": {
        "id": "P1sWxpx5tYVp"
      }
    },
    {
      "cell_type": "code",
      "source": [
        "def enembed(embeds_input):\n",
        "  \"\"\"\n",
        "  Given an embedding vector, decode each token by using the transpose of the embedding matrix\n",
        "  and grabbing the vocab token with the highest probability on each token.\n",
        "\n",
        "  Also do this with the unembedding matrix as well.\n",
        "  \"\"\"\n",
        "  with torch.no_grad():\n",
        "      # Get the pre-trained embeddings\n",
        "      pretrained_embeddings = model.transformer.wte.weight\n",
        "\n",
        "      # Calculate dot product between input embeddings and pre-trained embeddings\n",
        "      dot_product = torch.matmul(embeds_input, pretrained_embeddings.t())\n",
        "\n",
        "      # Get the index of the highest value along dimension 2 (tokens)\n",
        "      _, tokens = torch.max(dot_product, dim=2)\n",
        "\n",
        "  # Decode tokens into text using the tokenizer\n",
        "  text = tokenizer.batch_decode(tokens.tolist(), skip_special_tokens=True)\n",
        "\n",
        "  return text"
      ],
      "metadata": {
        "id": "LF4hALDAuEZO"
      },
      "execution_count": 153,
      "outputs": []
    },
    {
      "cell_type": "code",
      "source": [
        "def optimize_for_neuron(starting_sentence, layer_num=1, neuron_index=0, mlp_or_attention=\"mlp\"):\n",
        "  \"\"\"\n",
        "  Args:\n",
        "    neuron_indices: List of indices.\n",
        "    mlp_or_attention (str): 'mlp' or 'attention'\n",
        "  \"\"\"\n",
        "  model = AutoModelForCausalLM.from_pretrained(model_checkpoint).to(device)\n",
        "  inputs = tokenizer(starting_sentence, return_tensors=\"pt\").to(device)\n",
        "\n",
        "  # Get embeddings\n",
        "  with torch.no_grad():\n",
        "      embeddings = model.transformer.wte(inputs[\"input_ids\"])\n",
        "\n",
        "  # Make embeddings require gradient\n",
        "  embeddings.requires_grad_(True)\n",
        "\n",
        "  # Create an optimizer for the embeddings\n",
        "  optimizer = AdamW([embeddings], lr=0.1)  # You may need to adjust the learning rate\n",
        "  pre_embeddings = embeddings.detach().clone()\n",
        "  print(embeddings)\n",
        "  print(enembed(pre_embeddings))\n",
        "  len_example = embeddings.shape[1] - 1\n",
        "\n",
        "  if 'mlp' in mlp_or_attention:\n",
        "    layer = model.transformer.h[layer_num].mlp\n",
        "  else:\n",
        "    raise NotImplementedError(\"Haven't implemented attention block yet\")\n",
        "  activation_saved = [0.0]\n",
        "  def hook(model, input, output):\n",
        "    # The output is a tensor. You can index it to get the activation of a specific neuron.\n",
        "    # Here we're getting the activation of the 0th neuron.\n",
        "    activation = output[0, len_example, neuron_index]\n",
        "    activation_saved[0] = activation\n",
        "  handle = layer.register_forward_hook(hook)\n",
        "\n",
        "  losses = []\n",
        "  dist = 0.0\n",
        "  for i in tqdm(range(100)):\n",
        "    outputs = model(inputs_embeds=embeddings, attention_mask=inputs.attention_mask)\n",
        "    loss = -torch.sigmoid(activation_saved[0])\n",
        "    loss.backward()\n",
        "    optimizer.step()\n",
        "    dist = torch.sum(embeddings - pre_embeddings).item()\n",
        "    losses.append(loss)\n",
        "    if i % 25 == 0:\n",
        "      tqdm.write(f\"\\n{dist} and then {loss}\\n\")\n",
        "      tqdm.write(enembed(embeddings)[0])\n",
        "    optimizer.zero_grad()\n",
        "\n",
        "  return losses\n",
        "\n",
        ""
      ],
      "metadata": {
        "id": "0zxln1LMKRM-"
      },
      "execution_count": 154,
      "outputs": []
    },
    {
      "cell_type": "code",
      "source": [
        "input_sentence = \"In the midst of a vibrant summer morning, with the sun casting its golden rays upon the lush green meadows and the fragrant wildflowers swaying gently in the warm breeze, a multitude of birds chirped melodiously while gracefully soaring across the clear blue sky, their wings glimmering like tiny diamonds as they embraced the boundless freedom of the open air, and nearby, a majestic oak tree stood tall and proud, its branches extending outward in a magnificent display of nature's artistry, providing shade and shelter for a variety of creatures that sought solace beneath its protective canopy, including a family of squirrels playfully darting between the branches, their bushy tails serving as vibrant accents against the backdrop of verdant leaves, and as the day progressed, the distant rumble of thunder gradually grew louder, heralding the imminent arrival of a summer storm, as dark clouds gathered overhead, casting an ephemeral gloom over the once vibrant landscape, yet even in the face of this impending tempest, there was an undeniable beauty in the contrast between the electric flashes of lightning that briefly illuminated the sky and the cascading raindrops that danced upon the earth, breathing life into the thirsty soil and rejuvenating the flora and fauna, and as the storm subsided, a mesmerizing rainbow emerged, arching gracefully across the horizon, its vibrant hues painting a breathtaking scene that filled hearts with awe and wonder, reminding us of the ever-present magic and resilience of nature, and in that fleeting moment, as the world basked in the afterglow of the storm, a profound sense of gratitude and harmony washed over everything, reminding us of our intricate connection to the vast tapestry of existence.\"\n",
        "losses = optimize_for_neuron(input_sentence, neuron_index=0)\n",
        "# Plot losses\n",
        "plt.figure(figsize=(10,6))\n",
        "plt.plot([loss.cpu().detach() for loss in losses])\n",
        "plt.title('Loss curve')\n",
        "plt.xlabel('Iteration')\n",
        "plt.ylabel('Loss')\n",
        "plt.grid(True)\n",
        "plt.show()"
      ],
      "metadata": {
        "colab": {
          "base_uri": "https://localhost:8080/",
          "height": 1000
        },
        "id": "W8CMS1fpLg2Z",
        "outputId": "f41c35ed-dedb-4e59-f8e8-4a01717274dd"
      },
      "execution_count": 155,
      "outputs": [
        {
          "output_type": "stream",
          "name": "stdout",
          "text": [
            "tensor([[[-0.0139, -0.1037,  0.1125,  ...,  0.2844, -0.1100, -0.0665],\n",
            "         [-0.0732,  0.0183,  0.0231,  ..., -0.0664,  0.0704, -0.0653],\n",
            "         [ 0.0277, -0.1060, -0.0304,  ..., -0.1270, -0.1730,  0.2329],\n",
            "         ...,\n",
            "         [-0.0909,  0.0374,  0.0177,  ..., -0.0995, -0.1028, -0.0781],\n",
            "         [ 0.1139,  0.2699, -0.0141,  ..., -0.1196, -0.1867,  0.0398],\n",
            "         [ 0.0400, -0.0202,  0.0025,  ..., -0.0923,  0.0308,  0.1553]]],\n",
            "       device='cuda:0', requires_grad=True)\n",
            "[\"In the midst of a vibrant summer morning, with the sun casting its golden rays upon the lush green meadows and the fragrant wildflowers swaying gently in the warm breeze, a multitude of birds chirped melodiously while gracefully soaring across the clear blue sky, their wings glimmering like tiny diamonds as they embraced the boundless freedom of the open air, and nearby, a majestic oak tree stood tall and proud, its branches extending outward in a magnificent display of nature's artistry, providing shade and shelter for a variety of creatures that sought solace beneath its protective canopy, including a family of squirrels playfully darting between the branches, their bushy tails serving as vibrant accents against the backdrop of verdant leaves, and as the day progressed, the distant rumble of thunder gradually grew louder, heralding the imminent arrival of a summer storm, as dark clouds gathered overhead, casting an ephemeral gloom over the once vibrant landscape, yet even in the face of this impending tempest, there was an undeniable beauty in the contrast between the electric flashes of lightning that briefly illuminated the sky and the cascading raindrops that danced upon the earth, breathing life into the thirsty soil and rejuvenating the flora and fauna, and as the storm subsided, a mesmerizing rainbow emerged, arching gracefully across the horizon, its vibrant hues painting a breathtaking scene that filled hearts with awe and wonder, reminding us of the ever-present magic and resilience of nature, and in that fleeting moment, as the world basked in the afterglow of the storm, a profound sense of gratitude and harmony washed over everything, reminding us of our intricate connection to the vast tapestry of existence.\"]\n"
          ]
        },
        {
          "output_type": "stream",
          "name": "stderr",
          "text": [
            "  0%|          | 0/100 [00:00<?, ?it/s]"
          ]
        },
        {
          "output_type": "stream",
          "name": "stdout",
          "text": [
            "\n",
            "4.193210601806641 and then -0.3522891104221344\n",
            "\n",
            "In the midst of a vibrant summer morning, with the sun casting its golden rays upon the lush green meadows and the fragrant wildflowers swaying gently in the warm breeze, a multitude of birds chirped melodiously while gracefully soaring across the clear blue sky, their wings glimmering like tiny diamonds as they embraced the boundless freedom of the open air, and nearby, a majestic oak tree stood tall and proud, its branches extending outward in a magnificent display of nature's artistry, providing shade and shelter for a variety of creatures that sought solace beneath its protective canopy, including a family of squirrels playfully darting between the branches, their bushy tails serving as vibrant accents against the backdrop of verdant leaves, and as the day progressed, the distant rumble of thunder gradually grew louder, heralding the imminent arrival of a summer storm, as dark clouds gathered overhead, casting an ephemeral gloom over the once vibrant landscape, yet even in the face of this impending tempest, there was an undeniable beauty in the contrast between the electric flashes of lightning that briefly illuminated the sky and the cascading raindrops that danced upon the earth, breathing life into the thirsty soil and rejuvenating the flora and fauna, and as the storm subsided, a mesmerizing rainbow emerged, arching gracefully across the horizon, its vibrant hues painting a breathtaking scene that filled hearts with awe and wonder, reminding us of the ever-present magic and resilience of nature, and in that fleeting moment, as the world basked in the afterglow of the storm, a profound sense of gratitude and harmony washed over everything, reminding us of our intricate connection to the vast tapestry of existence.\n"
          ]
        },
        {
          "output_type": "stream",
          "name": "stderr",
          "text": [
            " 29%|██▉       | 29/100 [00:01<00:02, 23.92it/s]"
          ]
        },
        {
          "output_type": "stream",
          "name": "stdout",
          "text": [
            "\n",
            "-99.6822738647461 and then -0.9999935626983643\n",
            "\n",
            " Ruralagadvertisingofhop Flavoringutterstockterdayayarchagethelessitudesembercients rays uponagicultureeteenth exampleadows and the fragrantblersflowersoiseingflatac thethodox breeze. aELF of nestingiariesirpedurnalodiouslyions gracefully peacows the fundament\n",
            " sky. their fundamentglimmering like fundamentschild. theycients the mathematlessfreedom of theensibletheless. and locality. acientscientscyclopediasonian mathemat and eminent. its branches Parables�� in acientstheless ofcyclopediaist Parablesistry.gerycients andteenth for acyclopedia ofcyclopedia thatxualeteenthacerootschannelAvailabilitymbergcients.quickShipAvailable atheless ofcientss playfullytleing between the branches, their bushyteenththelessongcientstones against thetones of��dantcients, androp thetheless progressed, the distantaceaeble ofcientstymologycientsocene,cientsing theciationcients of atymologycients,ac sunsetcientscientsthood,cientsathtymologyhemeralcientsetonast oncecientscients.!),iversaryafortogg face ofastererscientsest, there isath Huckabeecientsuria RH contrast betweenclcients flashes ofcients1 briefly��ice skynice Agesadingcientscients1cients uponath earthipcients lifelandathuyomicientsncientsatingath flora andmanshipcients.gide Killcientsletsided, a mesmerizingcientscients,cientsing gracefullyanch thecients,ileecientsresuescients aulhucients thatites heartsfirecients and wonder.cientshower of the ever-present magician\n",
            "erityOf nature.\n",
            "ane that��selves.one thecientseousked. the afterglowOf thecients. a Ages senseOf gratitude and harmony tooth overEnough,ciusouslyof ourselves nature connection to thelihood tapestry?). existence-\n"
          ]
        },
        {
          "output_type": "stream",
          "name": "stderr",
          "text": [
            " 56%|█████▌    | 56/100 [00:02<00:01, 26.45it/s]"
          ]
        },
        {
          "output_type": "stream",
          "name": "stdout",
          "text": [
            "\n",
            "-104.24163055419922 and then -0.9999939203262329\n",
            "\n",
            " Ruralagadvertisingofhop Flavoringutterstockterdayayarchagethelessitudesembercients rays uponagicultureeteenth exampleadows and the fragrantblersflowersoiseingflatac thethodox breeze. aELF of nestingiariesirpedurnalodiouslyions gracefully peacows the fundament\n",
            " sky. their fundamentglimmering like fundamentschild. theycients the mathematlessfreedom of theensibletheless. & locality. whichcientscientscyclopediasonian mathemat and eminent.earth branches Parables��ine acientstheless ofcyclopediaist Parablesistry.gerycients andteenth for acyclopedia ofcyclopedia.xualeteenthacerootschannelAvailabilitymbergcients.quickShipAvailable atheless ofcientsspolefullytleing between theteenth, their buscientsteenthcientsongcientstones against thetones of��dantcients, androp thetheless progressed, the distantaceaeteenth ofcientstymologycientsocene,cientsing theciationcients of atymologycientsileac sunsetcientscientsthood,cientsathtymologyhemeralcientsetonast oncecientscients.!),iversaryafortogg face ofileeererscientsest, there isath Huckabeeuyomiuria RH contrast betweenclcientscients ofcients1 briefly��ice skynice Agesadingcientscients1cients uponath earthipcients lifelandathuyomicientsncientsatingath floranmanshipcientsilehipide Killcientsletsided, a mesmerizingcientscients,cientsing gracefullyanch thecients.ileecientsresuescients aulhucients thatites heartsfirecients and wonder.cientshower of the ever-present magician\n",
            "erityOf nature.\n",
            "ane that��selves.one thecientseousked. the afterciusowOf thecients. a Ages senseOf gratitude and harmony toothiousEnough,ciusouslyof ourselves natureeness to thelihood tapestry?). KNOW-\n"
          ]
        },
        {
          "output_type": "stream",
          "name": "stderr",
          "text": [
            " 78%|███████▊  | 78/100 [00:03<00:00, 27.23it/s]"
          ]
        },
        {
          "output_type": "stream",
          "name": "stdout",
          "text": [
            "\n",
            "-101.14918518066406 and then -0.9999943971633911\n",
            "\n",
            " Ruralagadvertisingofhop Flavoringutterstockterdayayarchagethelessitudesembercients rays uponagicultureeteenth exampleadows and the fragrantblersflowersoiseingflatac thethodox breeze. aELF of nestingiariesirpedurnalodiouslyions gracefully peacows the fundament\n",
            " sky. their fundamentgeistimmering like fundamentschild. theycients the mathematlessfreedom of theensibletheless. & locality. whichcientscientscyclopediasonian mathemat and eminent.earth branches Parables��ine acientstheless ofcyclopediaist Parablesistry.gerycients andteenth for acyclopedia ofcyclopedia.xualeteenthacerootschannelAvailabilitymbergcients.quickShipAvailable atheless ofcientsspolefullytleing between theteenth, their buscientsteenthcientsongcientstones against thetones of��dantcients, androp thetheless progressed, the distantaceaeteenth ofcientstymologycientsocene,cientsing theciationcients of atymologycientsileac sunsetcientscientsthood,cientsathtymologyhemeralcientsetonast oncecientscients.!),iversaryafortogg face ofileeererscientsest, there isath Huckabeeuyomiuria RH contrast betweenclcientscients ofcients1 briefly��ice skynice Agesadingcientscients1cients uponath earthipcients lifelandathuyomicientsncientsatingath floranmanshipcientsilehipide Killcientsletsided, a mesmerizingcientscients,cientsing gracefullyanch thecients.ileecientsresuescients aulhucients thatites heartsfirecients and wonder.cientshower of the ever-present magician\n",
            "erityOf nature.\n",
            "ane that��selves.one thecientseousked. the afterciusowOf thecients. a Ages senseOf gratitude and harmony toothiousEnough,ciusously).\" ourselves natureeness to thelihood tapestry?). KNOW-\n"
          ]
        },
        {
          "output_type": "stream",
          "name": "stderr",
          "text": [
            "100%|██████████| 100/100 [00:03<00:00, 26.52it/s]\n"
          ]
        },
        {
          "output_type": "display_data",
          "data": {
            "text/plain": [
              "<Figure size 1000x600 with 1 Axes>"
            ],
            "image/png": "[encoded data removed]"
          },
          "metadata": {}
        }
      ]
    },
    {
      "cell_type": "code",
      "source": [],
      "metadata": {
        "id": "PMygm2yzt5Pz"
      },
      "execution_count": 145,
      "outputs": []
    }
  ]
}