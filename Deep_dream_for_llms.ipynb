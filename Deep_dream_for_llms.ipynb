{
  "nbformat": 4,
  "nbformat_minor": 0,
  "metadata": {
    "colab": {
      "provenance": [],
      "gpuType": "T4"
    },
    "kernelspec": {
      "name": "python3",
      "display_name": "Python 3"
    },
    "language_info": {
      "name": "python"
    },
    "accelerator": "GPU"
  },
  "cells": [
    {
      "cell_type": "markdown",
      "source": [
        "## Imports and download"
      ],
      "metadata": {
        "id": "zMjqT2LgtTUD"
      }
    },
    {
      "cell_type": "code",
      "execution_count": 146,
      "metadata": {
        "colab": {
          "base_uri": "https://localhost:8080/"
        },
        "id": "NkSmfdseZT7-",
        "outputId": "6ad15c25-4ffb-4c30-dfc8-aaa2c72c7932"
      },
      "outputs": [
        {
          "output_type": "stream",
          "name": "stdout",
          "text": [
            "Running as a Colab notebook\n",
            "Requirement already satisfied: datasets in /usr/local/lib/python3.10/dist-packages (2.13.1)\n",
            "Requirement already satisfied: transformers in /usr/local/lib/python3.10/dist-packages (4.30.2)\n",
            "Requirement already satisfied: numpy>=1.17 in /usr/local/lib/python3.10/dist-packages (from datasets) (1.22.4)\n",
            "Requirement already satisfied: pyarrow>=8.0.0 in /usr/local/lib/python3.10/dist-packages (from datasets) (9.0.0)\n",
            "Requirement already satisfied: dill<0.3.7,>=0.3.0 in /usr/local/lib/python3.10/dist-packages (from datasets) (0.3.6)\n",
            "Requirement already satisfied: pandas in /usr/local/lib/python3.10/dist-packages (from datasets) (1.5.3)\n",
            "Requirement already satisfied: requests>=2.19.0 in /usr/local/lib/python3.10/dist-packages (from datasets) (2.27.1)\n",
            "Requirement already satisfied: tqdm>=4.62.1 in /usr/local/lib/python3.10/dist-packages (from datasets) (4.65.0)\n",
            "Requirement already satisfied: xxhash in /usr/local/lib/python3.10/dist-packages (from datasets) (3.2.0)\n",
            "Requirement already satisfied: multiprocess in /usr/local/lib/python3.10/dist-packages (from datasets) (0.70.14)\n",
            "Requirement already satisfied: fsspec[http]>=2021.11.1 in /usr/local/lib/python3.10/dist-packages (from datasets) (2023.6.0)\n",
            "Requirement already satisfied: aiohttp in /usr/local/lib/python3.10/dist-packages (from datasets) (3.8.4)\n",
            "Requirement already satisfied: huggingface-hub<1.0.0,>=0.11.0 in /usr/local/lib/python3.10/dist-packages (from datasets) (0.16.4)\n",
            "Requirement already satisfied: packaging in /usr/local/lib/python3.10/dist-packages (from datasets) (23.1)\n",
            "Requirement already satisfied: pyyaml>=5.1 in /usr/local/lib/python3.10/dist-packages (from datasets) (6.0)\n",
            "Requirement already satisfied: filelock in /usr/local/lib/python3.10/dist-packages (from transformers) (3.12.2)\n",
            "Requirement already satisfied: regex!=2019.12.17 in /usr/local/lib/python3.10/dist-packages (from transformers) (2022.10.31)\n",
            "Requirement already satisfied: tokenizers!=0.11.3,<0.14,>=0.11.1 in /usr/local/lib/python3.10/dist-packages (from transformers) (0.13.3)\n",
            "Requirement already satisfied: safetensors>=0.3.1 in /usr/local/lib/python3.10/dist-packages (from transformers) (0.3.1)\n",
            "Requirement already satisfied: attrs>=17.3.0 in /usr/local/lib/python3.10/dist-packages (from aiohttp->datasets) (23.1.0)\n",
            "Requirement already satisfied: charset-normalizer<4.0,>=2.0 in /usr/local/lib/python3.10/dist-packages (from aiohttp->datasets) (2.0.12)\n",
            "Requirement already satisfied: multidict<7.0,>=4.5 in /usr/local/lib/python3.10/dist-packages (from aiohttp->datasets) (6.0.4)\n",
            "Requirement already satisfied: async-timeout<5.0,>=4.0.0a3 in /usr/local/lib/python3.10/dist-packages (from aiohttp->datasets) (4.0.2)\n",
            "Requirement already satisfied: yarl<2.0,>=1.0 in /usr/local/lib/python3.10/dist-packages (from aiohttp->datasets) (1.9.2)\n",
            "Requirement already satisfied: frozenlist>=1.1.1 in /usr/local/lib/python3.10/dist-packages (from aiohttp->datasets) (1.3.3)\n",
            "Requirement already satisfied: aiosignal>=1.1.2 in /usr/local/lib/python3.10/dist-packages (from aiohttp->datasets) (1.3.1)\n",
            "Requirement already satisfied: typing-extensions>=3.7.4.3 in /usr/local/lib/python3.10/dist-packages (from huggingface-hub<1.0.0,>=0.11.0->datasets) (4.7.1)\n",
            "Requirement already satisfied: urllib3<1.27,>=1.21.1 in /usr/local/lib/python3.10/dist-packages (from requests>=2.19.0->datasets) (1.26.16)\n",
            "Requirement already satisfied: certifi>=2017.4.17 in /usr/local/lib/python3.10/dist-packages (from requests>=2.19.0->datasets) (2023.5.7)\n",
            "Requirement already satisfied: idna<4,>=2.5 in /usr/local/lib/python3.10/dist-packages (from requests>=2.19.0->datasets) (3.4)\n",
            "Requirement already satisfied: python-dateutil>=2.8.1 in /usr/local/lib/python3.10/dist-packages (from pandas->datasets) (2.8.2)\n",
            "Requirement already satisfied: pytz>=2020.1 in /usr/local/lib/python3.10/dist-packages (from pandas->datasets) (2022.7.1)\n",
            "Requirement already satisfied: six>=1.5 in /usr/local/lib/python3.10/dist-packages (from python-dateutil>=2.8.1->pandas->datasets) (1.16.0)\n"
          ]
        }
      ],
      "source": [
        "# Janky code to do different setup when run in a Colab notebook vs VSCode\n",
        "try:\n",
        "    import google.colab\n",
        "    IN_COLAB = True\n",
        "    print(\"Running as a Colab notebook\")\n",
        "    ! pip install datasets transformers\n",
        "except:\n",
        "    IN_COLAB = False\n",
        "    print(\"Running as a Jupyter notebook - intended for development only!\")\n",
        "    from IPython import get_ipython\n",
        "\n",
        "    ipython = get_ipython()\n",
        "    # Code to automatically update the HookedTransformer code as its edited without restarting the kernel\n",
        "    ipython.magic(\"load_ext autoreload\")\n",
        "    ipython.magic(\"autoreload 2\")\n"
      ]
    },
    {
      "cell_type": "code",
      "source": [
        "# from huggingface_hub import notebook_login\n",
        "\n",
        "# notebook_login()"
      ],
      "metadata": {
        "id": "eNbLhXw4ZXht"
      },
      "execution_count": 147,
      "outputs": []
    },
    {
      "cell_type": "code",
      "source": [
        "import transformers\n",
        "\n",
        "print(transformers.__version__)"
      ],
      "metadata": {
        "colab": {
          "base_uri": "https://localhost:8080/"
        },
        "id": "T75qU5PAZgYo",
        "outputId": "3657f4fe-77e1-473d-faba-72734918ab0e"
      },
      "execution_count": 148,
      "outputs": [
        {
          "output_type": "stream",
          "name": "stdout",
          "text": [
            "4.30.2\n"
          ]
        }
      ]
    },
    {
     "data": {
      "application/vnd.jupyter.widget-view+json": {
       "model_id": "dc7149e404dd4f55baca2b1fab609c94",
       "version_major": 2,
       "version_minor": 0
      },
      "text/plain": [
       "Downloading (…)neration_config.json:   0%|          | 0.00/124 [00:00<?, ?B/s]"
      ]
     },
     "metadata": {},
     "output_type": "display_data"
    }
   ],
   "source": [
    "model_checkpoint = \"distilgpt2\"\n",
    "from transformers import AutoTokenizer\n",
    "\n",
    "tokenizer = AutoTokenizer.from_pretrained(model_checkpoint, use_fast=True)\n",
    "from transformers import AutoModelForCausalLM\n",
    "model = AutoModelForCausalLM.from_pretrained(model_checkpoint)"
   ]
  },
  {
   "cell_type": "code",
   "execution_count": 10,
   "metadata": {
    "colab": {
     "base_uri": "https://localhost:8080/"
    },
    "id": "ea-1zt3JaDdj",
    "outputId": "f3bd7666-bab8-4ed7-fcb0-56b5db40a1a5"
   },
   "outputs": [
    {
     "data": {
      "text/plain": [
       "GPT2LMHeadModel(\n",
       "  (transformer): GPT2Model(\n",
       "    (wte): Embedding(50257, 768)\n",
       "    (wpe): Embedding(1024, 768)\n",
       "    (drop): Dropout(p=0.1, inplace=False)\n",
       "    (h): ModuleList(\n",
       "      (0-5): 6 x GPT2Block(\n",
       "        (ln_1): LayerNorm((768,), eps=1e-05, elementwise_affine=True)\n",
       "        (attn): GPT2Attention(\n",
       "          (c_attn): Conv1D()\n",
       "          (c_proj): Conv1D()\n",
       "          (attn_dropout): Dropout(p=0.1, inplace=False)\n",
       "          (resid_dropout): Dropout(p=0.1, inplace=False)\n",
       "        )\n",
       "        (ln_2): LayerNorm((768,), eps=1e-05, elementwise_affine=True)\n",
       "        (mlp): GPT2MLP(\n",
       "          (c_fc): Conv1D()\n",
       "          (c_proj): Conv1D()\n",
       "          (act): NewGELUActivation()\n",
       "          (dropout): Dropout(p=0.1, inplace=False)\n",
       "        )\n",
       "      )\n",
       "    )\n",
       "    (ln_f): LayerNorm((768,), eps=1e-05, elementwise_affine=True)\n",
       "  )\n",
       "  (lm_head): Linear(in_features=768, out_features=50257, bias=False)\n",
       ")"
      ]
     },
     "execution_count": 10,
     "metadata": {},
     "output_type": "execute_result"
    }
   ],
   "source": [
    "model"
   ]
  },
  {
   "cell_type": "markdown",
   "metadata": {
    "id": "P1sWxpx5tYVp"
   },
   "source": [
    "## Hook into model and optimize sentence"
   ]
  },
  {
   "cell_type": "code",
   "execution_count": 31,
   "metadata": {
    "id": "LF4hALDAuEZO"
   },
   "outputs": [],
   "source": [
    "def unembed(embeds_input):\n",
    "  \"\"\"\n",
    "  Given an embedding vector, decode each token by using the transpose of the embedding matrix\n",
    "  and grabbing the vocab token with the highest probability on each token.\n",
    "\n",
    "  Also do this with the unembedding matrix as well.\n",
    "  \"\"\"\n",
    "  with torch.no_grad():\n",
    "      # Get the pre-trained embeddings\n",
    "      pretrained_embeddings = model.transformer.wte.weight\n",
    "\n",
    "      # Calculate dot product between input embeddings and pre-trained embeddings\n",
    "      dot_product = torch.matmul(embeds_input, pretrained_embeddings.t())\n",
    "\n",
    "      # Get the index of the highest value along dimension 2 (tokens)\n",
    "      _, tokens = torch.max(dot_product, dim=2)\n",
    "\n",
    "  # Decode tokens into text using the tokenizer\n",
    "  text = tokenizer.batch_decode(tokens.tolist(), skip_special_tokens=True)\n",
    "\n",
    "  return text\n"
   ]
  },
  {
   "cell_type": "code",
   "execution_count": 32,
   "metadata": {
    "id": "QWKJ0PAEaGWk"
   },
   "outputs": [],
   "source": [
    "layer = model.transformer.h[1].mlp"
   ]
  },
  {
   "cell_type": "code",
   "execution_count": 33,
   "metadata": {
    "id": "n0iCzJh-aff2"
   },
   "outputs": [],
   "source": [
    "activation_saved = [0.0]\n",
    "def hook(model, input, output):\n",
    "  # The output is a tensor. You can index it to get the activation of a specific neuron.\n",
    "  # Here we're getting the activation of the 0th neuron.\n",
    "  activation = output[0, 0, 0]  # Gets the the 0th neuron of the 0th example in the batch\n",
    "  activation_saved[0] = activation\n"
   ]
  },
  {
   "cell_type": "code",
   "execution_count": 34,
   "metadata": {
    "id": "dZwXxEj8av2t"
   },
   "outputs": [],
   "source": [
    "# Register the hook\n",
    "try:\n",
    "  handle.remove() # deletes the handle when we are done with it.\n",
    "except:\n",
    "  pass\n",
    "handle = layer.register_forward_hook(hook)"
   ]
  },
  {
   "cell_type": "code",
   "execution_count": 35,
   "metadata": {
    "colab": {
     "base_uri": "https://localhost:8080/"
    },
    "id": "XO0B44Mkfy69",
    "outputId": "31f30cc7-8e33-42e2-d046-ee3201bc92e1"
   },
   "outputs": [
    {
     "name": "stdout",
     "output_type": "stream",
     "text": [
      "tensor([[[-0.0904, -0.1538,  0.0315,  ...,  0.0774, -0.0212, -0.0622],\n",
      "         [ 0.0086, -0.0009,  0.0056,  ...,  0.0484, -0.0737, -0.0636],\n",
      "         [-0.1725,  0.1922, -0.0372,  ..., -0.3523,  0.1989,  0.0269],\n",
      "         [-0.1445, -0.0455,  0.0042,  ..., -0.1523,  0.0184,  0.0991]]],\n",
      "       requires_grad=True)\n",
      "['Hello, world!']\n"
     ]
    }
   ],
   "source": [
    "inputs = tokenizer(\"Hello, world!\", return_tensors=\"pt\")\n",
    "\n",
    "# Get embeddings\n",
    "with torch.no_grad():\n",
    "    embeddings = model.transformer.wte(inputs[\"input_ids\"])\n",
    "\n",
    "# Make embeddings require gradient\n",
    "embeddings.requires_grad_(True)\n",
    "\n",
    "# Create an optimizer for the embeddings\n",
    "optimizer = AdamW([embeddings], lr=1e-3)  # You may need to adjust the learning rate\n",
    "pre_embeddings = embeddings.detach().clone()\n",
    "print(embeddings)\n",
    "print(unembed(pre_embeddings))\n",
    "#print((embeddings != unembed(pre_embeddings)).float().sum())"
   ]
  },
  {
   "cell_type": "code",
   "execution_count": 36,
   "metadata": {},
   "outputs": [
    {
     "data": {
      "application/vnd.jupyter.widget-view+json": {
       "model_id": "7c4dcb542c764042a694a645c30df62a",
       "version_major": 2,
       "version_minor": 0
      },
      "text/plain": [
       "Processing:   0%|          | 0/1000 [00:00<?, ?it/s]"
      ]
     },
     "metadata": {},
     "output_type": "display_data"
    }
   ],
   "source": [
    "from tqdm.notebook import tqdm, trange\n",
    "\n",
    "dist = 0.0\n",
    "losses = []\n",
    "pbar = trange(1000, desc=\"Processing\")\n",
    "for i in pbar:\n",
    "    outputs = model(inputs_embeds=embeddings, attention_mask=inputs.attention_mask)\n",
    "    loss = activation_saved[0]\n",
    "    loss.backward()\n",
    "    optimizer.step()\n",
    "    dist = torch.sum(embeddings - pre_embeddings).item()\n",
    "    losses.append(loss)\n",
    "    if i % 25 == 0:\n",
    "        pbar.set_description(f\"Processing (dist={dist}, loss={loss})\")\n",
    "        pbar.set_postfix_str(unembed(embeddings)[0])\n",
    "    optimizer.zero_grad()\n"
   ]
  },
  {
   "cell_type": "code",
   "execution_count": 29,
   "metadata": {
    "colab": {
     "base_uri": "https://localhost:8080/"
    },
    "id": "bDJU3wzIj1Df",
    "outputId": "7959670f-8f19-4aa2-f9cd-71d67123866b"
   },
   "outputs": [
    {
     "data": {
      "text/plain": [
       "tensor([[[ 0.0199, -0.0337,  0.0911,  ...,  0.1578, -0.1568, -0.1923],\n",
       "         [ 0.0086, -0.0009,  0.0056,  ...,  0.0483, -0.0737, -0.0636],\n",
       "         [-0.1723,  0.1921, -0.0371,  ..., -0.3519,  0.1987,  0.0269],\n",
       "         [-0.1443, -0.0455,  0.0042,  ..., -0.1521,  0.0184,  0.0990]]],\n",
       "       requires_grad=True)"
      ]
     },
     "execution_count": 29,
     "metadata": {},
     "output_type": "execute_result"
    }
   ],
   "source": [
    "embeddings"
   ]
  },
  {
   "cell_type": "code",
   "execution_count": 18,
   "metadata": {
    "colab": {
     "base_uri": "https://localhost:8080/"
    },
    {
      "cell_type": "code",
      "source": [
        "model = AutoModelForCausalLM.from_pretrained(model_checkpoint).to(device)\n",
        "model"
      ],
      "metadata": {
        "colab": {
          "base_uri": "https://localhost:8080/"
        },
        "id": "ea-1zt3JaDdj",
        "outputId": "70f2edfc-dbc9-4650-f652-e23c554a04f9"
      },
      "execution_count": 171,
      "outputs": [
        {
          "output_type": "execute_result",
          "data": {
            "text/plain": [
              "Conv1D()"
            ]
          },
          "metadata": {},
          "execution_count": 171
        }
      ]
    },
    {
      "cell_type": "code",
      "source": [
        "model.transformer.h[1]"
      ],
      "metadata": {
        "colab": {
          "base_uri": "https://localhost:8080/"
        },
        "id": "JdK8501maTZl",
        "outputId": "29e004de-4375-4eb2-8097-ba438641cc44"
      },
      "execution_count": 185,
      "outputs": [
        {
          "output_type": "execute_result",
          "data": {
            "text/plain": [
              "GPT2Block(\n",
              "  (ln_1): LayerNorm((768,), eps=1e-05, elementwise_affine=True)\n",
              "  (attn): GPT2Attention(\n",
              "    (c_attn): Conv1D()\n",
              "    (c_proj): Conv1D()\n",
              "    (attn_dropout): Dropout(p=0.1, inplace=False)\n",
              "    (resid_dropout): Dropout(p=0.1, inplace=False)\n",
              "  )\n",
              "  (ln_2): LayerNorm((768,), eps=1e-05, elementwise_affine=True)\n",
              "  (mlp): GPT2MLP(\n",
              "    (c_fc): Conv1D()\n",
              "    (c_proj): Conv1D()\n",
              "    (act): NewGELUActivation()\n",
              "    (dropout): Dropout(p=0.1, inplace=False)\n",
              "  )\n",
              ")"
            ]
          },
          "metadata": {},
          "execution_count": 185
        }
      ]
    },
    {
      "cell_type": "markdown",
      "source": [
        "## Hook into model and optimize sentence"
      ],
      "metadata": {
        "id": "P1sWxpx5tYVp"
      }
    },
    {
      "cell_type": "code",
      "source": [
        "def unembed(embeds_input, use_embed_matrix=True):\n",
        "  \"\"\"\n",
        "  Given an embedding vector, decode each token by using the transpose of the embedding matrix\n",
        "  and grabbing the vocab token with the highest probability on each token.\n",
        "\n",
        "  Also do this with the unembedding matrix as well.\n",
        "  \"\"\"\n",
        "  with torch.no_grad():\n",
        "      # Get the pre-trained embeddings\n",
        "      if use_embed_matrix:\n",
        "        pretrained_embeddings = model.transformer.wte.weight\n",
        "      else:\n",
        "\n",
        "      # Calculate dot product between input embeddings and pre-trained embeddings\n",
        "      dot_product = torch.matmul(embeds_input, pretrained_embeddings.t())\n",
        "\n",
        "      # Get the index of the highest value along dimension 2 (tokens)\n",
        "      _, tokens = torch.max(dot_product, dim=2)\n",
        "\n",
        "  # Decode tokens into text using the tokenizer\n",
        "  text = tokenizer.batch_decode(tokens.tolist(), skip_special_tokens=True)\n",
        "\n",
        "  return text"
      ],
      "metadata": {
        "id": "LF4hALDAuEZO"
      },
      "execution_count": 163,
      "outputs": []
    },
    {
      "cell_type": "code",
      "source": [
        "def optimize_for_neuron(starting_sentence, layer_num=1, neuron_index=0, mlp_or_attention=\"mlp\"):\n",
        "  \"\"\"\n",
        "  Args:\n",
        "    neuron_indices: List of indices.\n",
        "    mlp_or_attention (str): 'mlp' or 'attention'\n",
        "  \"\"\"\n",
        "  model = AutoModelForCausalLM.from_pretrained(model_checkpoint).to(device)\n",
        "  inputs = tokenizer(starting_sentence, return_tensors=\"pt\").to(device)\n",
        "\n",
        "  # Get embeddings\n",
        "  with torch.no_grad():\n",
        "      embeddings = model.transformer.wte(inputs[\"input_ids\"])\n",
        "\n",
        "  # Make embeddings require gradient\n",
        "  embeddings.requires_grad_(True)\n",
        "\n",
        "  # Create an optimizer for the embeddings\n",
        "  optimizer = AdamW([embeddings], lr=0.1)  # You may need to adjust the learning rate\n",
        "  pre_embeddings = embeddings.detach().clone()\n",
        "  print(embeddings)\n",
        "  print(unembed(pre_embeddings))\n",
        "  len_example = embeddings.shape[1] - 1\n",
        "\n",
        "  if 'mlp' in mlp_or_attention:\n",
        "    layer = model.transformer.h[layer_num].mlp\n",
        "  else:\n",
        "    raise NotImplementedError(\"Haven't implemented attention block yet\")\n",
        "  activation_saved = [torch.tensor(0.0)]\n",
        "  def hook(model, input, output):\n",
        "    # The output is a tensor. You can index it to get the activation of a specific neuron.\n",
        "    # Here we're getting the activation of the 0th neuron.\n",
        "    activation = output[0, len_example, neuron_index]\n",
        "    activation_saved[0] = activation\n",
        "  handle = layer.register_forward_hook(hook)\n",
        "\n",
        "  losses = []\n",
        "  dist = 0.0\n",
        "  for i in tqdm(range(100)):\n",
        "    outputs = model(inputs_embeds=embeddings, attention_mask=inputs.attention_mask)\n",
        "    loss = -torch.sigmoid(activation_saved[0])\n",
        "    loss.backward()\n",
        "    optimizer.step()\n",
        "    dist = torch.sum(embeddings - pre_embeddings).item()\n",
        "    losses.append(loss)\n",
        "    if i % 25 == 0:\n",
        "      tqdm.write(f\"\\n{dist} and then {loss}\\n\")\n",
        "      tqdm.write(unembed(embeddings)[0])\n",
        "    optimizer.zero_grad()\n",
        "\n",
        "  return losses\n",
        "\n",
        ""
      ],
      "metadata": {
        "id": "0zxln1LMKRM-"
      },
      "execution_count": 164,
      "outputs": []
    },
    {
      "cell_type": "code",
      "source": [
        "input_sentence_1 = \"In the midst of a vibrant summer morning, with the sun casting its golden rays upon the lush green meadows and the fragrant wildflowers swaying gently in the warm breeze, a multitude of birds chirped melodiously while gracefully soaring across the clear blue sky, their wings glimmering like tiny diamonds as they embraced the boundless freedom of the open air, and nearby, a majestic oak tree stood tall and proud, its branches extending outward in a magnificent display of nature's artistry, providing shade and shelter for a variety of creatures that sought solace beneath its protective canopy, including a family of squirrels playfully darting between the branches, their bushy tails serving as vibrant accents against the backdrop of verdant leaves, and as the day progressed, the distant rumble of thunder gradually grew louder, heralding the imminent arrival of a summer storm, as dark clouds gathered overhead, casting an ephemeral gloom over the once vibrant landscape, yet even in the face of this impending tempest, there was an undeniable beauty in the contrast between the electric flashes of lightning that briefly illuminated the sky and the cascading raindrops that danced upon the earth, breathing life into the thirsty soil and rejuvenating the flora and fauna, and as the storm subsided, a mesmerizing rainbow emerged, arching gracefully across the horizon, its vibrant hues painting a breathtaking scene that filled hearts with awe and wonder, reminding us of the ever-present magic and resilience of nature, and in that fleeting moment, as the world basked in the afterglow of the storm, a profound sense of gratitude and harmony washed over everything, reminding us of our intricate connection to the vast tapestry of existence.\"\n",
        "input_sentence_2 = \"The fundamental principles of calculus provide a powerful framework for understanding and analyzing the rates of change and accumulation of quantities in various fields of mathematics and science, enabling us to model and solve complex real-world problems with precision and rigor.\"\n",
        "input_sentence_3 = \"I'm sorry for the misunderstanding, but as an AI developed by OpenAI, I don't have direct access to individual sentences or documents from my training data. I was trained on a mixture of licensed data, data created by human trainers, and publicly available data. These sources may contain a wide range of data, including books, websites, and other texts, so I don't have the ability to recall or generate any specific sentence from the training data. I generate responses based on patterns and information in the data I was trained on.\"\n",
        "losses = optimize_for_neuron(input_sentence_3, neuron_index=2, layer_num=5)\n",
        "# Plot losses\n",
        "plt.figure(figsize=(10,6))\n",
        "plt.plot([loss.cpu().detach() for loss in losses])\n",
        "plt.title('Loss curve')\n",
        "plt.xlabel('Iteration')\n",
        "plt.ylabel('Loss')\n",
        "plt.grid(True)\n",
        "plt.show()"
      ],
      "metadata": {
        "colab": {
          "base_uri": "https://localhost:8080/",
          "height": 1000
        },
        "id": "W8CMS1fpLg2Z",
        "outputId": "d944b735-97f7-4d7f-b5fa-afe657e2b919"
      },
      "execution_count": 175,
      "outputs": [
        {
          "output_type": "stream",
          "name": "stdout",
          "text": [
            "tensor([[[ 0.1631, -0.1021,  0.1457,  ...,  0.1160, -0.0656, -0.1384],\n",
            "         [-0.0795, -0.0597,  0.1863,  ...,  0.1133, -0.1239,  0.1401],\n",
            "         [ 0.0809, -0.1952,  0.0935,  ...,  0.0602,  0.0082,  0.0808],\n",
            "         ...,\n",
            "         [-0.0340, -0.1107,  0.0428,  ..., -0.0141,  0.1425,  0.0504],\n",
            "         [-0.0433,  0.0728,  0.0070,  ..., -0.1435, -0.1512,  0.0795],\n",
            "         [ 0.0400, -0.0202,  0.0025,  ..., -0.0923,  0.0308,  0.1553]]],\n",
            "       device='cuda:0', requires_grad=True)\n",
            "[\"I'm sorry for the misunderstanding, but as an AI developed by OpenAI, I don't have direct access to individual sentences or documents from my training data. I was trained on a mixture of licensed data, data created by human trainers, and publicly available data. These sources may contain a wide range of data, including books, websites, and other texts, so I don't have the ability to recall or generate any specific sentence from the training data. I generate responses based on patterns and information in the data I was trained on.\"]\n"
          ]
        },
        {
          "output_type": "stream",
          "name": "stderr",
          "text": [
            "  2%|▏         | 2/100 [00:00<00:04, 19.60it/s]"
          ]
        },
        {
          "output_type": "stream",
          "name": "stdout",
          "text": [
            "\n",
            "14.731788635253906 and then -0.6482579708099365\n",
            "\n",
            "I'm sorry for the misunderstanding, but as an AI developed by OpenAI, I don't have direct access to individual sentences or documents from my training data. I was trained on a mixture of licensed data, data created by human trainers, and publicly available data. These sources may contain a wide range of data, including books, websites, and other texts, so I don't have the ability to recall or generate any specific sentence from the training data. I generate responses based on patterns and information in the data I was trained on.\n"
          ]
        },
        {
          "output_type": "stream",
          "name": "stderr",
          "text": [
            " 31%|███       | 31/100 [00:00<00:01, 38.11it/s]"
          ]
        },
        {
          "output_type": "stream",
          "name": "stdout",
          "text": [
            "\n",
            "-25.054946899414062 and then -0.9998562335968018\n",
            "\n",
            "cue am�� XIIIhes misunderstandinghes butafterair laptus-[ OpenAIsoevermy cannotno Seymably enquoutexual sentences or Whilst.). myself Trafford analyse. I wasULTS onair combination%);nsic data CAS data undertaken...]utory Vaugh& and Whilstavailable data. This Whilstshall Whilst aidem)\",) data and)\",orius, Whilst or\n",
            "ivelybooks not somy will not.)\n",
            " opportunity\n",
            " recall\n",
            "thur.):).\"shall From theHunt datathelessI IpsGall basedays records and enquuppideshowcard I was travelled guiActiveUnfocused.\n"
          ]
        },
        {
          "output_type": "stream",
          "name": "stderr",
          "text": [
            " 57%|█████▋    | 57/100 [00:01<00:01, 35.80it/s]"
          ]
        },
        {
          "output_type": "stream",
          "name": "stdout",
          "text": [
            "\n",
            "-28.975830078125 and then -0.9999661445617676\n",
            "\n",
            "cue am�� XIIIhes misunderstandinghes butafterair Nottingus-[ OpenAIsoevermy cannot hereafter Seymably enquoutexual sentences or Whilst.). myself Trafford analyse. IhamULTS onair combination%);nsic data CAS data undertaken...]utory Vaughwich\n",
            " Whilstavailable data. This Whilstshall Whilst aidem)\",) data and)\",orius, Whilst or\n",
            "ivelybooks not somy will not.)\n",
            ")\n",
            " recall\n",
            "thur.):).\"shall From theHunt datathelessI IpsGall basedays records\n",
            " enquuppideshowcard I was travelled guiActiveUnfocused.\n"
          ]
        },
        {
          "output_type": "stream",
          "name": "stderr",
          "text": [
            " 82%|████████▏ | 82/100 [00:02<00:00, 39.38it/s]"
          ]
        },
        {
          "output_type": "stream",
          "name": "stdout",
          "text": [
            "\n",
            "-28.715972900390625 and then -0.9999816417694092\n",
            "\n",
            "cue am�� XIIIhes misunderstandinghes butafterair Nottingus-[ OpenAIsoevermy cannot hereafter Seymably enquoutexual sentences or Whilst.). myself Trafford analyse. IhamULTS onair combination%);nsic datamanship data undertaken...]utory Vaughwich\n",
            " Whilstavailable data. This Whilstshall Whilst aidem)\",) data and)\",orius, Whilst or\n",
            "ivelybooks not somy will not.)\n",
            ")\n",
            " recall\n",
            "thur.):).\"shall From theHunt datathelessI IpsGall basedays records\n",
            " enquuppideshowcard I was travelled guiActiveUnfocused.\n"
          ]
        },
        {
          "output_type": "stream",
          "name": "stderr",
          "text": [
            "100%|██████████| 100/100 [00:02<00:00, 37.36it/s]\n"
          ]
        },
        {
          "output_type": "display_data",
          "data": {
            "text/plain": [
              "<Figure size 1000x600 with 1 Axes>"
            ],
            "image/png": "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\n"
          },
          "metadata": {}
        }
      ]
    },
    {
      "cell_type": "code",
      "source": [],
      "metadata": {
        "id": "PMygm2yzt5Pz"
      },
      "execution_count": 145,
      "outputs": []
    }
  ]
}