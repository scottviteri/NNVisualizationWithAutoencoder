{
 "cells": [
  {
   "cell_type": "code",
   "execution_count": 1,
   "metadata": {},
   "outputs": [],
   "source": [
    "import mnist\n",
    "import scipy.misc\n",
    "import matplotlib.pyplot as plt\n",
    "import torch as t\n",
    "import torch.nn as nn\n",
    "import torch.optim as optim\n",
    "from torch.utils.data import DataLoader\n",
    "import torch.nn.functional as F\n",
    "import torch\n",
    "import torchvision\n",
    "import torchvision.transforms as transforms\n",
    "import random\n",
    "from einops import rearrange, reduce, repeat\n",
    "from skimage.transform import resize"
   ]
  },
  {
   "cell_type": "code",
   "execution_count": 39,
   "metadata": {},
   "outputs": [],
   "source": [
    "# Define a transform to normalize the data\n",
    "transform = transforms.Compose([\n",
    "    transforms.ToTensor(), # convert images to tensors\n",
    "    transforms.Normalize((0.1307,), (0.3081,)) # normalize the data\n",
    "])\n",
    "\n",
    "# Download the MNIST training set and apply the transform\n",
    "trainset = torchvision.datasets.MNIST(root='./data', train=True, download=True, transform=transform)\n",
    "\n",
    "# Download the MNIST test set and apply the transform\n",
    "testset = torchvision.datasets.MNIST(root='./data', train=False, download=True, transform=transform)\n",
    "\n",
    "# Create a dataloader to load the training set in batches during training\n",
    "trainloader = torch.utils.data.DataLoader(trainset, batch_size=32, shuffle=True)\n",
    "\n",
    "# Create a dataloader to load the test set in batches during evaluation\n",
    "testloader = torch.utils.data.DataLoader(testset, batch_size=1, shuffle=False)\n"
   ]
  },
  {
   "cell_type": "code",
   "execution_count": 3,
   "metadata": {},
   "outputs": [
    {
     "data": {
      "text/plain": [
       "<matplotlib.image.AxesImage at 0x7f545a0dea40>"
      ]
     },
     "execution_count": 3,
     "metadata": {},
     "output_type": "execute_result"
    },
    {
     "data": {
      "image/png": "[encoded data removed]",
      "text/plain": [
       "<Figure size 640x480 with 1 Axes>"
      ]
     },
     "metadata": {},
     "output_type": "display_data"
    }
   ],
   "source": [
    "plt.imshow(trainset[0][0][0])"
   ]
  },
  {
   "cell_type": "code",
   "execution_count": 4,
   "metadata": {},
   "outputs": [],
   "source": [
    "#import torchvision\n",
    "#from torch.utils.data import DataLoader\n",
    "#\n",
    "#train_data = torchvision.datasets.MNIST\n",
    "#\n",
    "#images = mnist.train_images()\n",
    "#labels = mnist.train_labels()\n",
    "#\n",
    "#def convert(image): return t.tensor(image.flatten()).float()\n",
    "#train = t.stack([t.tensor(x,dtype=t.float)/256.0 for x in mnist.train_images()])\n",
    "#mean = train.mean(dim=(0,1,2), keepdim=True)\n",
    "#std = train.std(dim=(0,1,2), keepdim=True)\n",
    "#train_normalized = (train - mean) / std"
   ]
  },
  {
   "cell_type": "code",
   "execution_count": 5,
   "metadata": {},
   "outputs": [],
   "source": [
    "latent_dim = 10 \n",
    "class Autoencoder(nn.Module):\n",
    "    def __init__(self):\n",
    "        super(Autoencoder, self).__init__()\n",
    "        self.encoder = nn.Linear(784, latent_dim)\n",
    "        self.decoder = nn.Linear(latent_dim, 784)\n",
    "\n",
    "    def forward(self, x):\n",
    "        x = self.encoder(x)\n",
    "        x = self.decoder(x)\n",
    "        return x"
   ]
  },
  {
   "cell_type": "code",
   "execution_count": 6,
   "metadata": {},
   "outputs": [],
   "source": [
    "#autoencoder = Autoencoder()\n",
    "#optimizer = optim.Adam(autoencoder.parameters(), lr=0.001)\n",
    "#loss_fn = nn.MSELoss()\n",
    "#autoencoder.train()\n",
    "#\n",
    "## Train the autoencoder\n",
    "#for epoch in range(10):  # train for 10 epochs\n",
    "#    for batch_idx, (data, _) in enumerate(trainloader):\n",
    "#        optimizer.zero_grad()  # zero the gradients\n",
    "#        data = data.view(data.size(0), -1)  # flatten the images\n",
    "#        recon = autoencoder(data)  # forward pass\n",
    "#        loss = loss_fn(recon, data)  # compute the loss\n",
    "#        loss.backward()  # backward pass\n",
    "#        optimizer.step()  # update the parameters\n",
    "#\n",
    "#        if batch_idx % 1000 == 0:\n",
    "#            print('Epoch: {}, Batch: {}, Loss: {:.4f}'.format(epoch, batch_idx, loss.item()))\n",
    "#            t.save(autoencoder.state_dict(), 'autoencoder.pt')\n",
    "#\n",
    "## Save the trained model\n",
    "#t.save(autoencoder.state_dict(), 'autoencoder.pt')\n",
    "#"
   ]
  },
  {
   "cell_type": "code",
   "execution_count": 7,
   "metadata": {},
   "outputs": [
    {
     "name": "stdout",
     "output_type": "stream",
     "text": [
      "Autoencoder(\n",
      "  (encoder): Linear(in_features=784, out_features=10, bias=True)\n",
      "  (decoder): Linear(in_features=10, out_features=784, bias=True)\n",
      ")\n"
     ]
    },
    {
     "data": {
      "text/plain": [
       "<matplotlib.image.AxesImage at 0x7f545a7a1750>"
      ]
     },
     "execution_count": 7,
     "metadata": {},
     "output_type": "execute_result"
    },
    {
     "data": {
      "image/png": "[encoded data removed]",
      "text/plain": [
       "<Figure size 640x480 with 1 Axes>"
      ]
     },
     "metadata": {},
     "output_type": "display_data"
    },
    {
     "data": {
      "image/png": "[encoded data removed]",
      "text/plain": [
       "<Figure size 640x480 with 1 Axes>"
      ]
     },
     "metadata": {},
     "output_type": "display_data"
    }
   ],
   "source": [
    "auto = Autoencoder()\n",
    "auto.load_state_dict(t.load('autoencoder.pt'))\n",
    "auto.eval()\n",
    "print(auto)\n",
    "\n",
    "a, (b,c) = next(enumerate(trainloader))\n",
    "d = rearrange(auto(b.view(b.size(0),-1)), 'b (h w) -> b h w', h=28)\n",
    "plt.figure()\n",
    "plt.imshow(b[0][0].detach().numpy())\n",
    "plt.figure()\n",
    "plt.imshow(d[0].detach().numpy())"
   ]
  },
  {
   "cell_type": "code",
   "execution_count": 8,
   "metadata": {},
   "outputs": [],
   "source": [
    "class DigitClassifier(nn.Module):\n",
    "    def __init__(self):\n",
    "        super(DigitClassifier, self).__init__()\n",
    "        self.fc1 = nn.Linear(784, 128)\n",
    "        self.fc2 = nn.Linear(128, 64)\n",
    "        self.fc3 = nn.Linear(64, 10)\n",
    "\n",
    "    def forward(self, x):\n",
    "        x = nn.functional.relu(self.fc1(x))\n",
    "        x = nn.functional.relu(self.fc2(x))\n",
    "        x = self.fc3(x)\n",
    "        return x"
   ]
  },
  {
   "cell_type": "code",
   "execution_count": 9,
   "metadata": {},
   "outputs": [],
   "source": [
    "#classifier = DigitClassifier()\n",
    "#optimizer = optim.Adam(classifier.parameters(), lr=0.0001)\n",
    "#classifier.train()\n",
    "#\n",
    "##loss_fn = nn.CrossEntropyLoss()\n",
    "#\n",
    "#for epoch in range(4):  # train for 10 epochs\n",
    "#    for batch_idx, (data, label) in enumerate(trainloader):\n",
    "#        optimizer.zero_grad()  # zero the gradients\n",
    "#        data = data.view(data.size(0), -1)  # flatten the images\n",
    "#        #loss = -t.log(classifier(data)[t.arange(label.shape[0]), label]).sum()\n",
    "#        probs = t.nn.functional.softmax(classifier(data),dim=-1)  # forward pass\n",
    "#        loss = -t.log(probs[t.arange(label.shape[0]), label]).sum()\n",
    "#        #loss = loss_fn(probs, label)  # compute the loss\n",
    "#        loss.backward()  # backward pass\n",
    "#        optimizer.step()  # update the parameters\n",
    "#\n",
    "#        if batch_idx % 500 == 0:\n",
    "#            #print(data.shape, label)\n",
    "#            print('Epoch: {}, Batch: {}, Loss: {:.4f}'.format(epoch, batch_idx, loss.item()))\n",
    "#            t.save(classifier.state_dict(), 'classifier.pt')\n"
   ]
  },
  {
   "cell_type": "code",
   "execution_count": 10,
   "metadata": {},
   "outputs": [
    {
     "name": "stdout",
     "output_type": "stream",
     "text": [
      "DigitClassifier(\n",
      "  (fc1): Linear(in_features=784, out_features=128, bias=True)\n",
      "  (fc2): Linear(in_features=128, out_features=64, bias=True)\n",
      "  (fc3): Linear(in_features=64, out_features=10, bias=True)\n",
      ")\n"
     ]
    }
   ],
   "source": [
    "classifier = DigitClassifier()\n",
    "classifier.load_state_dict(t.load('classifier.pt'))\n",
    "classifier.eval()\n",
    "print(classifier)"
   ]
  },
  {
   "cell_type": "code",
   "execution_count": 42,
   "metadata": {},
   "outputs": [
    {
     "name": "stdout",
     "output_type": "stream",
     "text": [
      "Test loss:  0.959\n"
     ]
    }
   ],
   "source": [
    "# test\n",
    "correct = []\n",
    "classifier.eval()\n",
    "for epoch in range(4):  \n",
    "    for batch_idx, (data, label) in enumerate(testloader):\n",
    "        data = data.view(data.size(0), -1).squeeze().squeeze()  # flatten the images\n",
    "        probs = t.nn.functional.softmax(classifier(data),dim=-1)  # forward pass\n",
    "        correct.append(1 if t.argmax(probs)==label.squeeze().squeeze() else 0)\n",
    "\n",
    "def average(lst): \n",
    "    return sum(lst) / len(lst)\n",
    "\n",
    "print(\"Test loss: \", average(correct))\n"
   ]
  },
  {
   "cell_type": "code",
   "execution_count": 40,
   "metadata": {},
   "outputs": [
    {
     "name": "stdout",
     "output_type": "stream",
     "text": [
      "torch.Size([1, 1, 28, 28])\n"
     ]
    }
   ],
   "source": [
    "for a,(b,c) in enumerate(testloader):\n",
    "    print(b.shape)\n",
    "    break"
   ]
  },
  {
   "cell_type": "code",
   "execution_count": 45,
   "metadata": {},
   "outputs": [
    {
     "name": "stdout",
     "output_type": "stream",
     "text": [
      "tensor(7)\n"
     ]
    },
    {
     "data": {
      "image/png": "[encoded data removed]",
      "text/plain": [
       "<Figure size 640x480 with 1 Axes>"
      ]
     },
     "metadata": {},
     "output_type": "display_data"
    }
   ],
   "source": [
    "batch_idx = 0\n",
    "a, (b,c) = next(enumerate(testloader)) \n",
    "d = classifier(b.view(b.size(0),-1))\n",
    "plt.figure()\n",
    "plt.imshow(b[batch_idx][0].detach().numpy())\n",
    "print(c[batch_idx])"
   ]
  },
  {
   "cell_type": "code",
   "execution_count": 61,
   "metadata": {},
   "outputs": [
    {
     "name": "stdout",
     "output_type": "stream",
     "text": [
      "Prob:  tensor(0.9972, grad_fn=<SelectBackward0>)\n"
     ]
    },
    {
     "data": {
      "text/plain": [
       "[<matplotlib.lines.Line2D at 0x7f54595b43a0>]"
      ]
     },
     "execution_count": 61,
     "metadata": {},
     "output_type": "execute_result"
    },
    {
     "data": {
      "image/png": "[encoded data removed]",
      "text/plain": [
       "<Figure size 640x480 with 1 Axes>"
      ]
     },
     "metadata": {},
     "output_type": "display_data"
    },
    {
     "data": {
      "image/png": "[encoded data removed]",
      "text/plain": [
       "<Figure size 640x480 with 1 Axes>"
      ]
     },
     "metadata": {},
     "output_type": "display_data"
    }
   ],
   "source": [
    "classifier = DigitClassifier()\n",
    "classifier.load_state_dict(t.load('classifier.pt'))\n",
    "target_class = 7 \n",
    "learning_rate = 0.1\n",
    "num_iterations = 1000\n",
    "loss_fn = nn.CrossEntropyLoss()\n",
    "\n",
    "losses = []\n",
    "# Initialize the input tensor with random values\n",
    "input_tensor = torch.randn(1, latent_dim, requires_grad=True)\n",
    "# Perform gradient ascent to maximize the probability of the target class\n",
    "for i in range(num_iterations):\n",
    "    #probs = F.softmax(logits, dim=1)\n",
    "    #loss = -torch.log(probs[0, target_class])\n",
    "    logits = classifier(auto.decoder(input_tensor))\n",
    "    #probs = t.nn.functional.softmax(logits,dim=-1)  # forward pass\n",
    "    #loss = -t.log(probs[0, target_class])\n",
    "    loss = loss_fn(logits, t.tensor([target_class]))\n",
    "    #loss = loss_fn(logits, target_class)\n",
    "    loss.backward()\n",
    "    losses.append(loss.item())\n",
    "    with torch.no_grad():\n",
    "        input_tensor -= learning_rate * input_tensor.grad\n",
    "    input_tensor.grad.zero_()\n",
    "\n",
    "#input_tensor = torch.randn(1, latent_dim, requires_grad=True)\n",
    "# Print the final input tensor and probability of the target class\n",
    "plt.imshow(rearrange(auto.decoder(input_tensor)[0], '(h w) -> h w', h = 28).detach().numpy())\n",
    "print(\"Prob: \", t.nn.functional.softmax(classifier(auto.decoder(input_tensor)),dim=-1)[0, target_class])\n",
    "#print('Probability of target class:', probs[0, target_class])\n",
    "plt.figure()\n",
    "plt.plot(losses)\n"
   ]
  },
  {
   "cell_type": "code",
   "execution_count": 15,
   "metadata": {},
   "outputs": [
    {
     "ename": "RuntimeError",
     "evalue": "mat1 and mat2 shapes cannot be multiplied (1x784 and 10x784)",
     "output_type": "error",
     "traceback": [
      "\u001b[0;31m---------------------------------------------------------------------------\u001b[0m",
      "\u001b[0;31mRuntimeError\u001b[0m                              Traceback (most recent call last)",
      "Cell \u001b[0;32mIn[15], line 1\u001b[0m\n\u001b[0;32m----> 1\u001b[0m auto\u001b[39m.\u001b[39;49mdecoder(torch\u001b[39m.\u001b[39;49mrandn(\u001b[39m1\u001b[39;49m, \u001b[39m784\u001b[39;49m))\u001b[39m.\u001b[39mshape\n",
      "File \u001b[0;32m~/.local/lib/python3.10/site-packages/torch/nn/modules/module.py:1194\u001b[0m, in \u001b[0;36mModule._call_impl\u001b[0;34m(self, *input, **kwargs)\u001b[0m\n\u001b[1;32m   1190\u001b[0m \u001b[39m# If we don't have any hooks, we want to skip the rest of the logic in\u001b[39;00m\n\u001b[1;32m   1191\u001b[0m \u001b[39m# this function, and just call forward.\u001b[39;00m\n\u001b[1;32m   1192\u001b[0m \u001b[39mif\u001b[39;00m \u001b[39mnot\u001b[39;00m (\u001b[39mself\u001b[39m\u001b[39m.\u001b[39m_backward_hooks \u001b[39mor\u001b[39;00m \u001b[39mself\u001b[39m\u001b[39m.\u001b[39m_forward_hooks \u001b[39mor\u001b[39;00m \u001b[39mself\u001b[39m\u001b[39m.\u001b[39m_forward_pre_hooks \u001b[39mor\u001b[39;00m _global_backward_hooks\n\u001b[1;32m   1193\u001b[0m         \u001b[39mor\u001b[39;00m _global_forward_hooks \u001b[39mor\u001b[39;00m _global_forward_pre_hooks):\n\u001b[0;32m-> 1194\u001b[0m     \u001b[39mreturn\u001b[39;00m forward_call(\u001b[39m*\u001b[39;49m\u001b[39minput\u001b[39;49m, \u001b[39m*\u001b[39;49m\u001b[39m*\u001b[39;49mkwargs)\n\u001b[1;32m   1195\u001b[0m \u001b[39m# Do not call functions when jit is used\u001b[39;00m\n\u001b[1;32m   1196\u001b[0m full_backward_hooks, non_full_backward_hooks \u001b[39m=\u001b[39m [], []\n",
      "File \u001b[0;32m~/.local/lib/python3.10/site-packages/torch/nn/modules/linear.py:114\u001b[0m, in \u001b[0;36mLinear.forward\u001b[0;34m(self, input)\u001b[0m\n\u001b[1;32m    113\u001b[0m \u001b[39mdef\u001b[39;00m \u001b[39mforward\u001b[39m(\u001b[39mself\u001b[39m, \u001b[39minput\u001b[39m: Tensor) \u001b[39m-\u001b[39m\u001b[39m>\u001b[39m Tensor:\n\u001b[0;32m--> 114\u001b[0m     \u001b[39mreturn\u001b[39;00m F\u001b[39m.\u001b[39;49mlinear(\u001b[39minput\u001b[39;49m, \u001b[39mself\u001b[39;49m\u001b[39m.\u001b[39;49mweight, \u001b[39mself\u001b[39;49m\u001b[39m.\u001b[39;49mbias)\n",
      "\u001b[0;31mRuntimeError\u001b[0m: mat1 and mat2 shapes cannot be multiplied (1x784 and 10x784)"
     ]
    }
   ],
   "source": [
    "auto.decoder(torch.randn(1, 784))"
   ]
  },
  {
   "cell_type": "code",
   "execution_count": null,
   "metadata": {},
   "outputs": [
    {
     "data": {
      "text/plain": [
       "torch.Size([1, 10])"
      ]
     },
     "execution_count": 67,
     "metadata": {},
     "output_type": "execute_result"
    }
   ],
   "source": [
    "classifier(t.randn(1,784)).shape"
   ]
  },
  {
   "cell_type": "code",
   "execution_count": null,
   "metadata": {},
   "outputs": [
    {
     "name": "stdout",
     "output_type": "stream",
     "text": [
      "None\n"
     ]
    },
    {
     "ename": "TypeError",
     "evalue": "unsupported operand type(s) for *: 'float' and 'NoneType'",
     "output_type": "error",
     "traceback": [
      "\u001b[0;31m---------------------------------------------------------------------------\u001b[0m",
      "\u001b[0;31mTypeError\u001b[0m                                 Traceback (most recent call last)",
      "Cell \u001b[0;32mIn[126], line 26\u001b[0m\n\u001b[1;32m     24\u001b[0m     loss\u001b[39m.\u001b[39mbackward()\n\u001b[1;32m     25\u001b[0m     \u001b[39mwith\u001b[39;00m torch\u001b[39m.\u001b[39mno_grad():\n\u001b[0;32m---> 26\u001b[0m         input_tensor \u001b[39m-\u001b[39m\u001b[39m=\u001b[39m learning_rate \u001b[39m*\u001b[39;49m input_tensor\u001b[39m.\u001b[39;49mgrad\n\u001b[1;32m     27\u001b[0m     input_tensor\u001b[39m.\u001b[39mgrad\u001b[39m.\u001b[39mzero_()\n\u001b[1;32m     29\u001b[0m \u001b[39m# Print the final input tensor and probability of the target class\u001b[39;00m\n",
      "\u001b[0;31mTypeError\u001b[0m: unsupported operand type(s) for *: 'float' and 'NoneType'"
     ]
    }
   ],
   "source": [
    "classifier = DigitClassifier()\n",
    "classifier.load_state_dict(t.load('classifier.pt'))\n",
    "auto = Autoencoder()\n",
    "auto.load_state_dict(t.load('autoencoder.pt'))\n",
    "classifier.train()\n",
    "\n",
    "target_class = 4\n",
    "learning_rate = 0.1\n",
    "num_iterations = 1000\n",
    "losses = []\n",
    "\n",
    "# Initialize the input tensor with random values\n",
    "input_tensor = torch.randn(1, latent_dim, requires_grad=True)\n",
    "# Perform gradient ascent to maximize the probability of the target class\n",
    "for i in range(num_iterations):\n",
    "    logits = classifier(auto.decoder(input_tensor))\n",
    "    probs = t.nn.functional.softmax(classifier(data),dim=-1)  # forward pass\n",
    "    loss = -t.log(probs[t.arange(label.shape[0]), label]).sum()\n",
    "    losses.append(loss.item())\n",
    "    print(input_tensor.grad)\n",
    "    loss.backward()\n",
    "    with torch.no_grad():\n",
    "        input_tensor -= learning_rate * input_tensor.grad\n",
    "    input_tensor.grad.zero_()\n",
    "\n",
    "# Print the final input tensor and probability of the target class\n",
    "plt.imshow(rearrange(auto.decoder(input_tensor)[0], '(h w) -> h w', h = 28).detach().numpy())\n",
    "print(\"logit: \")\n",
    "print(classifier(auto.decoder(input_tensor))[0, target_class])\n",
    "#print('Probability of target class:', probs[0, target_class])\n",
    "plt.figure()\n",
    "plt.plot(losses)\n"
   ]
  },
  {
   "cell_type": "code",
   "execution_count": null,
   "metadata": {},
   "outputs": [
    {
     "data": {
      "text/plain": [
       "tensor([[0.1081, 0.1081, 0.1093, 0.0929, 0.0910, 0.0806, 0.0914, 0.1141, 0.0915,\n",
       "         0.1130]], grad_fn=<SoftmaxBackward0>)"
      ]
     },
     "execution_count": 26,
     "metadata": {},
     "output_type": "execute_result"
    }
   ],
   "source": [
    "# Define the model\n",
    "model = DigitClassifier()\n",
    "\n",
    "# Create a dictionary to store the activations of each layer\n",
    "activations = {}\n",
    "\n",
    "# Define the forward hook function to capture the activations of each layer\n",
    "def capture_activations(name):\n",
    "    def hook(model, input, output):\n",
    "        activations[name] = output\n",
    "    return hook\n",
    "\n",
    "# Register the forward hook for each layer of the model\n",
    "for name, module in model.named_modules():\n",
    "    module.register_forward_hook(capture_activations(name))\n",
    "\n",
    "# Forward pass the input through the model to capture the activations\n",
    "input_tensor = torch.randn(1, 784)\n",
    "model(input_tensor)\n",
    "\n",
    "# Print the activations of each layer\n",
    "#for name, output in activations.items():\n",
    "#    print(f'{name}: {output}')\n"
   ]
  },
  {
   "cell_type": "code",
   "execution_count": null,
   "metadata": {},
   "outputs": [
    {
     "data": {
      "text/plain": [
       "dict_keys(['fc1', 'fc2', 'fc3', ''])"
      ]
     },
     "execution_count": 27,
     "metadata": {},
     "output_type": "execute_result"
    }
   ],
   "source": [
    "activations.keys()"
   ]
  },
  {
   "cell_type": "code",
   "execution_count": null,
   "metadata": {},
   "outputs": [
    {
     "data": {
      "text/plain": [
       "tensor(3)"
      ]
     },
     "execution_count": 43,
     "metadata": {},
     "output_type": "execute_result"
    }
   ],
   "source": [
    "t.tensor(3)"
   ]
  },
  {
   "cell_type": "code",
   "execution_count": null,
   "metadata": {},
   "outputs": [],
   "source": []
  }
 ],
 "metadata": {
  "kernelspec": {
   "display_name": "base",
   "language": "python",
   "name": "python3"
  },
  "language_info": {
   "codemirror_mode": {
    "name": "ipython",
    "version": 3
   },
   "file_extension": ".py",
   "mimetype": "text/x-python",
   "name": "python",
   "nbconvert_exporter": "python",
   "pygments_lexer": "ipython3",
   "version": "3.10.8"
  },
  "orig_nbformat": 4,
  "vscode": {
   "interpreter": {
    "hash": "3d597f4c481aa0f25dceb95d2a0067e73c0966dcbd003d741d821a7208527ecf"
   }
  }
 },
 "nbformat": 4,
 "nbformat_minor": 2
}
